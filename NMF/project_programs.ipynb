{
 "cells": [
  {
   "cell_type": "code",
   "execution_count": 1,
   "id": "578c37de",
   "metadata": {},
   "outputs": [],
   "source": [
    "import glob"
   ]
  },
  {
   "cell_type": "code",
   "execution_count": 2,
   "id": "df93862b",
   "metadata": {},
   "outputs": [],
   "source": [
    "import numpy as np\n",
    "import pandas as pd"
   ]
  },
  {
   "cell_type": "code",
   "execution_count": 3,
   "id": "33a596d5",
   "metadata": {},
   "outputs": [],
   "source": [
    "from scipy.stats import rankdata"
   ]
  },
  {
   "cell_type": "code",
   "execution_count": 4,
   "id": "2809b3f5",
   "metadata": {},
   "outputs": [],
   "source": [
    "H_df = pd.read_csv('write/VHL_kidney_GEPs.csv', index_col=0)\n",
    "H_genes = list(H_df.columns)"
   ]
  },
  {
   "cell_type": "code",
   "execution_count": 10,
   "id": "328ff3d0",
   "metadata": {},
   "outputs": [],
   "source": [
    "tcga_transcriptome_files = glob.glob('data/tcga_transcriptome/clean_*')"
   ]
  },
  {
   "cell_type": "code",
   "execution_count": 11,
   "id": "ba886e0a",
   "metadata": {},
   "outputs": [],
   "source": [
    "program_usages = []\n",
    "\n",
    "for each_file in tcga_transcriptome_files:\n",
    "    trans_df = pd.read_table(each_file, sep='\\t', index_col=0)\n",
    "    trans_df.drop('Entrez_Gene_Id', axis='columns', inplace=True)\n",
    "\n",
    "    log_trans_df = np.log1p(trans_df)\n",
    "    log_trans_df = log_trans_df.T\n",
    "\n",
    "    trans_genes = list(log_trans_df.columns)\n",
    "    comm_genes = list(set(H_genes) & set(trans_genes))\n",
    "\n",
    "    used_H_df = H_df[comm_genes]\n",
    "    used_trans_df = log_trans_df[comm_genes]\n",
    "\n",
    "    H = used_H_df.values\n",
    "    inv_H = np.linalg.pinv(H) # Compute the (Moore-Penrose) pseudo-inverse of a matrix\n",
    "\n",
    "    trans = used_trans_df.values\n",
    "    ranked_trans = rankdata(trans, method='min', axis=1) # normalization per sample\n",
    "\n",
    "    W = np.dot(ranked_trans, inv_H)\n",
    "\n",
    "    W_df = pd.DataFrame(W, index=used_trans_df.index, columns=list(H_df.index))\n",
    "\n",
    "    program_usages.append(W_df)\n",
    "\n",
    "program_usage_df = pd.concat(program_usages)\n",
    "program_usage_df.to_csv('write/program_usages.csv')    "
   ]
  },
  {
   "cell_type": "code",
   "execution_count": 45,
   "id": "86bebdbe",
   "metadata": {},
   "outputs": [],
   "source": [
    "trans_df = pd.read_table('data/tcga_transcriptome/clean_kirc-rsem-fpkm-tcga-t.txt', sep='\\t', index_col=0)\n",
    "trans_df.drop('Entrez_Gene_Id', axis='columns', inplace=True)"
   ]
  },
  {
   "cell_type": "code",
   "execution_count": 48,
   "id": "dab5866b",
   "metadata": {},
   "outputs": [],
   "source": [
    "log_trans_df = np.log1p(trans_df)\n",
    "log_trans_df = log_trans_df.T"
   ]
  },
  {
   "cell_type": "code",
   "execution_count": 49,
   "id": "c93742f5",
   "metadata": {},
   "outputs": [
    {
     "data": {
      "text/plain": [
       "(11, 768)"
      ]
     },
     "execution_count": 49,
     "metadata": {},
     "output_type": "execute_result"
    }
   ],
   "source": [
    "H_df = pd.read_csv('write/VHL_kidney_GEPs.csv', index_col=0)\n",
    "H_df.shape"
   ]
  },
  {
   "cell_type": "code",
   "execution_count": 50,
   "id": "c6d4167c",
   "metadata": {},
   "outputs": [
    {
     "data": {
      "text/plain": [
       "768"
      ]
     },
     "execution_count": 50,
     "metadata": {},
     "output_type": "execute_result"
    }
   ],
   "source": [
    "H_genes = list(H_df.columns)\n",
    "trans_genes = list(log_trans_df.columns)\n",
    "comm_genes = list(set(H_genes) & set(trans_genes))\n",
    "len(comm_genes)"
   ]
  },
  {
   "cell_type": "code",
   "execution_count": 51,
   "id": "5feb6def",
   "metadata": {},
   "outputs": [],
   "source": [
    "used_H_df = H_df[comm_genes]\n",
    "used_trans_df = log_trans_df[comm_genes]"
   ]
  },
  {
   "cell_type": "code",
   "execution_count": 52,
   "id": "81ea8a97",
   "metadata": {},
   "outputs": [
    {
     "data": {
      "text/plain": [
       "(768, 11)"
      ]
     },
     "execution_count": 52,
     "metadata": {},
     "output_type": "execute_result"
    }
   ],
   "source": [
    "H = used_H_df.values\n",
    "inv_H = np.linalg.pinv(H) # Compute the (Moore-Penrose) pseudo-inverse of a matrix\n",
    "inv_H.shape"
   ]
  },
  {
   "cell_type": "code",
   "execution_count": 53,
   "id": "e1b6be0b",
   "metadata": {},
   "outputs": [
    {
     "data": {
      "text/plain": [
       "(475, 768)"
      ]
     },
     "execution_count": 53,
     "metadata": {},
     "output_type": "execute_result"
    }
   ],
   "source": [
    "trans = used_trans_df.values\n",
    "ranked_trans = rankdata(trans, method='min', axis=1) # normalization per sample\n",
    "ranked_trans.shape"
   ]
  },
  {
   "cell_type": "code",
   "execution_count": 54,
   "id": "b50c19f3",
   "metadata": {},
   "outputs": [
    {
     "data": {
      "text/plain": [
       "(475, 11)"
      ]
     },
     "execution_count": 54,
     "metadata": {},
     "output_type": "execute_result"
    }
   ],
   "source": [
    "W = np.dot(ranked_trans, inv_H)\n",
    "W.shape"
   ]
  },
  {
   "cell_type": "code",
   "execution_count": 55,
   "id": "74462c82",
   "metadata": {},
   "outputs": [
    {
     "data": {
      "text/html": [
       "<div>\n",
       "<style scoped>\n",
       "    .dataframe tbody tr th:only-of-type {\n",
       "        vertical-align: middle;\n",
       "    }\n",
       "\n",
       "    .dataframe tbody tr th {\n",
       "        vertical-align: top;\n",
       "    }\n",
       "\n",
       "    .dataframe thead th {\n",
       "        text-align: right;\n",
       "    }\n",
       "</style>\n",
       "<table border=\"1\" class=\"dataframe\">\n",
       "  <thead>\n",
       "    <tr style=\"text-align: right;\">\n",
       "      <th></th>\n",
       "      <th>P1</th>\n",
       "      <th>P2</th>\n",
       "      <th>P3</th>\n",
       "      <th>P4</th>\n",
       "      <th>P5</th>\n",
       "      <th>P6</th>\n",
       "      <th>P7</th>\n",
       "      <th>P8</th>\n",
       "      <th>P9</th>\n",
       "      <th>P10</th>\n",
       "      <th>P11</th>\n",
       "    </tr>\n",
       "  </thead>\n",
       "  <tbody>\n",
       "    <tr>\n",
       "      <th>TCGA_B2_5641_01</th>\n",
       "      <td>12.277100</td>\n",
       "      <td>2.635807</td>\n",
       "      <td>4.756027</td>\n",
       "      <td>1.106056</td>\n",
       "      <td>-1.008482</td>\n",
       "      <td>1.746075</td>\n",
       "      <td>1.324845</td>\n",
       "      <td>2.982919</td>\n",
       "      <td>0.338918</td>\n",
       "      <td>1.275817</td>\n",
       "      <td>1.320590</td>\n",
       "    </tr>\n",
       "    <tr>\n",
       "      <th>TCGA_A3_3362_01</th>\n",
       "      <td>12.439110</td>\n",
       "      <td>2.384621</td>\n",
       "      <td>4.896829</td>\n",
       "      <td>1.183359</td>\n",
       "      <td>-1.051265</td>\n",
       "      <td>1.904904</td>\n",
       "      <td>1.526953</td>\n",
       "      <td>2.849425</td>\n",
       "      <td>0.171614</td>\n",
       "      <td>0.856817</td>\n",
       "      <td>1.238161</td>\n",
       "    </tr>\n",
       "    <tr>\n",
       "      <th>TCGA_A3_A6NL_01</th>\n",
       "      <td>12.485909</td>\n",
       "      <td>2.221967</td>\n",
       "      <td>4.649102</td>\n",
       "      <td>0.905750</td>\n",
       "      <td>-1.069340</td>\n",
       "      <td>2.160378</td>\n",
       "      <td>1.318062</td>\n",
       "      <td>3.029958</td>\n",
       "      <td>0.222383</td>\n",
       "      <td>1.056029</td>\n",
       "      <td>1.157859</td>\n",
       "    </tr>\n",
       "    <tr>\n",
       "      <th>TCGA_BP_5178_01</th>\n",
       "      <td>12.332143</td>\n",
       "      <td>3.008580</td>\n",
       "      <td>4.051656</td>\n",
       "      <td>0.714401</td>\n",
       "      <td>-0.877147</td>\n",
       "      <td>1.941596</td>\n",
       "      <td>1.365741</td>\n",
       "      <td>2.854424</td>\n",
       "      <td>-0.016993</td>\n",
       "      <td>1.068508</td>\n",
       "      <td>1.255925</td>\n",
       "    </tr>\n",
       "    <tr>\n",
       "      <th>TCGA_BP_4756_01</th>\n",
       "      <td>12.431744</td>\n",
       "      <td>2.657062</td>\n",
       "      <td>5.080684</td>\n",
       "      <td>1.244671</td>\n",
       "      <td>-1.164986</td>\n",
       "      <td>1.876914</td>\n",
       "      <td>1.226853</td>\n",
       "      <td>2.979888</td>\n",
       "      <td>0.026623</td>\n",
       "      <td>0.845917</td>\n",
       "      <td>1.375037</td>\n",
       "    </tr>\n",
       "    <tr>\n",
       "      <th>...</th>\n",
       "      <td>...</td>\n",
       "      <td>...</td>\n",
       "      <td>...</td>\n",
       "      <td>...</td>\n",
       "      <td>...</td>\n",
       "      <td>...</td>\n",
       "      <td>...</td>\n",
       "      <td>...</td>\n",
       "      <td>...</td>\n",
       "      <td>...</td>\n",
       "      <td>...</td>\n",
       "    </tr>\n",
       "    <tr>\n",
       "      <th>TCGA_BP_5196_01</th>\n",
       "      <td>12.517496</td>\n",
       "      <td>2.723995</td>\n",
       "      <td>4.255305</td>\n",
       "      <td>0.892271</td>\n",
       "      <td>-1.048513</td>\n",
       "      <td>2.249125</td>\n",
       "      <td>1.302354</td>\n",
       "      <td>2.969942</td>\n",
       "      <td>0.107708</td>\n",
       "      <td>1.482435</td>\n",
       "      <td>1.402295</td>\n",
       "    </tr>\n",
       "    <tr>\n",
       "      <th>TCGA_B8_4622_01</th>\n",
       "      <td>12.336851</td>\n",
       "      <td>2.449119</td>\n",
       "      <td>4.984000</td>\n",
       "      <td>1.099463</td>\n",
       "      <td>-1.052179</td>\n",
       "      <td>1.689862</td>\n",
       "      <td>1.245303</td>\n",
       "      <td>2.954300</td>\n",
       "      <td>0.269707</td>\n",
       "      <td>1.383613</td>\n",
       "      <td>1.308764</td>\n",
       "    </tr>\n",
       "    <tr>\n",
       "      <th>TCGA_B0_5077_01</th>\n",
       "      <td>12.409614</td>\n",
       "      <td>2.819222</td>\n",
       "      <td>4.707054</td>\n",
       "      <td>0.728188</td>\n",
       "      <td>-1.104287</td>\n",
       "      <td>2.220756</td>\n",
       "      <td>1.245515</td>\n",
       "      <td>3.197033</td>\n",
       "      <td>0.234873</td>\n",
       "      <td>1.129149</td>\n",
       "      <td>1.314706</td>\n",
       "    </tr>\n",
       "    <tr>\n",
       "      <th>TCGA_AK_3465_01</th>\n",
       "      <td>12.521595</td>\n",
       "      <td>2.771590</td>\n",
       "      <td>5.389962</td>\n",
       "      <td>1.199140</td>\n",
       "      <td>-1.179051</td>\n",
       "      <td>1.716548</td>\n",
       "      <td>1.294073</td>\n",
       "      <td>2.768207</td>\n",
       "      <td>-0.099936</td>\n",
       "      <td>0.862942</td>\n",
       "      <td>1.524736</td>\n",
       "    </tr>\n",
       "    <tr>\n",
       "      <th>TCGA_BP_4176_01</th>\n",
       "      <td>12.300280</td>\n",
       "      <td>2.410266</td>\n",
       "      <td>4.597421</td>\n",
       "      <td>0.970562</td>\n",
       "      <td>-0.975772</td>\n",
       "      <td>2.258044</td>\n",
       "      <td>1.387710</td>\n",
       "      <td>2.839386</td>\n",
       "      <td>0.324613</td>\n",
       "      <td>1.330538</td>\n",
       "      <td>1.267589</td>\n",
       "    </tr>\n",
       "  </tbody>\n",
       "</table>\n",
       "<p>475 rows × 11 columns</p>\n",
       "</div>"
      ],
      "text/plain": [
       "                        P1        P2        P3        P4        P5        P6  \\\n",
       "TCGA_B2_5641_01  12.277100  2.635807  4.756027  1.106056 -1.008482  1.746075   \n",
       "TCGA_A3_3362_01  12.439110  2.384621  4.896829  1.183359 -1.051265  1.904904   \n",
       "TCGA_A3_A6NL_01  12.485909  2.221967  4.649102  0.905750 -1.069340  2.160378   \n",
       "TCGA_BP_5178_01  12.332143  3.008580  4.051656  0.714401 -0.877147  1.941596   \n",
       "TCGA_BP_4756_01  12.431744  2.657062  5.080684  1.244671 -1.164986  1.876914   \n",
       "...                    ...       ...       ...       ...       ...       ...   \n",
       "TCGA_BP_5196_01  12.517496  2.723995  4.255305  0.892271 -1.048513  2.249125   \n",
       "TCGA_B8_4622_01  12.336851  2.449119  4.984000  1.099463 -1.052179  1.689862   \n",
       "TCGA_B0_5077_01  12.409614  2.819222  4.707054  0.728188 -1.104287  2.220756   \n",
       "TCGA_AK_3465_01  12.521595  2.771590  5.389962  1.199140 -1.179051  1.716548   \n",
       "TCGA_BP_4176_01  12.300280  2.410266  4.597421  0.970562 -0.975772  2.258044   \n",
       "\n",
       "                       P7        P8        P9       P10       P11  \n",
       "TCGA_B2_5641_01  1.324845  2.982919  0.338918  1.275817  1.320590  \n",
       "TCGA_A3_3362_01  1.526953  2.849425  0.171614  0.856817  1.238161  \n",
       "TCGA_A3_A6NL_01  1.318062  3.029958  0.222383  1.056029  1.157859  \n",
       "TCGA_BP_5178_01  1.365741  2.854424 -0.016993  1.068508  1.255925  \n",
       "TCGA_BP_4756_01  1.226853  2.979888  0.026623  0.845917  1.375037  \n",
       "...                   ...       ...       ...       ...       ...  \n",
       "TCGA_BP_5196_01  1.302354  2.969942  0.107708  1.482435  1.402295  \n",
       "TCGA_B8_4622_01  1.245303  2.954300  0.269707  1.383613  1.308764  \n",
       "TCGA_B0_5077_01  1.245515  3.197033  0.234873  1.129149  1.314706  \n",
       "TCGA_AK_3465_01  1.294073  2.768207 -0.099936  0.862942  1.524736  \n",
       "TCGA_BP_4176_01  1.387710  2.839386  0.324613  1.330538  1.267589  \n",
       "\n",
       "[475 rows x 11 columns]"
      ]
     },
     "execution_count": 55,
     "metadata": {},
     "output_type": "execute_result"
    }
   ],
   "source": [
    "W_df = pd.DataFrame(W, index=used_trans_df.index, columns=list(H_df.index))\n",
    "W_df"
   ]
  }
 ],
 "metadata": {
  "kernelspec": {
   "display_name": "Python 3 (ipykernel)",
   "language": "python",
   "name": "python3"
  },
  "language_info": {
   "codemirror_mode": {
    "name": "ipython",
    "version": 3
   },
   "file_extension": ".py",
   "mimetype": "text/x-python",
   "name": "python",
   "nbconvert_exporter": "python",
   "pygments_lexer": "ipython3",
   "version": "3.10.9"
  }
 },
 "nbformat": 4,
 "nbformat_minor": 5
}
