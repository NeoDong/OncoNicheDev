{
 "cells": [
  {
   "cell_type": "code",
   "execution_count": 1,
   "metadata": {},
   "outputs": [],
   "source": [
    "import glob\n",
    "import os"
   ]
  },
  {
   "cell_type": "code",
   "execution_count": 8,
   "metadata": {},
   "outputs": [
    {
     "data": {
      "text/plain": [
       "['data/tcga_transcriptome/blca-rsem-fpkm-tcga-t.txt',\n",
       " 'data/tcga_transcriptome/hnsc-rsem-fpkm-tcga-t.txt',\n",
       " 'data/tcga_transcriptome/chol-rsem-fpkm-tcga-t.txt',\n",
       " 'data/tcga_transcriptome/kirp-rsem-fpkm-tcga-t.txt',\n",
       " 'data/tcga_transcriptome/ucs-rsem-fpkm-tcga-t.txt',\n",
       " 'data/tcga_transcriptome/brca-rsem-fpkm-tcga-t.txt',\n",
       " 'data/tcga_transcriptome/kich-rsem-fpkm-tcga-t.txt',\n",
       " 'data/tcga_transcriptome/cesc-rsem-fpkm-tcga-t.txt',\n",
       " 'data/tcga_transcriptome/coad-rsem-fpkm-tcga-t.txt',\n",
       " 'data/tcga_transcriptome/kirc-rsem-fpkm-tcga-t.txt',\n",
       " 'data/tcga_transcriptome/stad-rsem-fpkm-tcga-t.txt',\n",
       " 'data/tcga_transcriptome/lihc-rsem-fpkm-tcga-t.txt',\n",
       " 'data/tcga_transcriptome/ucec-rsem-fpkm-tcga-t.txt',\n",
       " 'data/tcga_transcriptome/read-rsem-fpkm-tcga-t.txt',\n",
       " 'data/tcga_transcriptome/prad-rsem-fpkm-tcga-t.txt',\n",
       " 'data/tcga_transcriptome/esca-rsem-fpkm-tcga-t.txt',\n",
       " 'data/tcga_transcriptome/lusc-rsem-fpkm-tcga-t.txt',\n",
       " 'data/tcga_transcriptome/thca-rsem-fpkm-tcga-t.txt',\n",
       " 'data/tcga_transcriptome/luad-rsem-fpkm-tcga-t.txt']"
      ]
     },
     "execution_count": 8,
     "metadata": {},
     "output_type": "execute_result"
    }
   ],
   "source": [
    "files = glob.glob('data/tcga_transcriptome/*-t.txt')\n",
    "files"
   ]
  },
  {
   "cell_type": "code",
   "execution_count": 13,
   "metadata": {},
   "outputs": [],
   "source": [
    "def clean_barcode(file):\n",
    "    filename = os.path.basename(file)\n",
    "    dir = os.path.dirname(file)\n",
    "    new_filename = os.path.join(dir, 'clean_'+filename)\n",
    "    \n",
    "    f = open(new_filename, 'w')\n",
    "\n",
    "    for line in open(file):\n",
    "        line = line.rstrip()\n",
    "        if line.startswith('Hugo_Symbol'):\n",
    "            barcodes = []\n",
    "            for barcode in line.split('\\t'):\n",
    "                barcodes.append(barcode[:15].replace('-', '_'))\n",
    "                \n",
    "            new_line = '\\t'.join(barcodes)\n",
    "            \n",
    "            f.write(new_line+'\\n')\n",
    "        \n",
    "        else:\n",
    "            f.write(line+'\\n')\n",
    "            \n",
    "\n",
    "    f.close()"
   ]
  },
  {
   "cell_type": "code",
   "execution_count": 14,
   "metadata": {},
   "outputs": [],
   "source": [
    "for file in files:\n",
    "    clean_barcode(file)"
   ]
  }
 ],
 "metadata": {
  "kernelspec": {
   "display_name": "base",
   "language": "python",
   "name": "python3"
  },
  "language_info": {
   "codemirror_mode": {
    "name": "ipython",
    "version": 3
   },
   "file_extension": ".py",
   "mimetype": "text/x-python",
   "name": "python",
   "nbconvert_exporter": "python",
   "pygments_lexer": "ipython3",
   "version": "3.10.9"
  },
  "orig_nbformat": 4
 },
 "nbformat": 4,
 "nbformat_minor": 2
}
