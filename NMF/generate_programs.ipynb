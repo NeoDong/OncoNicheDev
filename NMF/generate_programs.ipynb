{
 "cells": [
  {
   "cell_type": "code",
   "execution_count": 6,
   "id": "f7959587",
   "metadata": {},
   "outputs": [],
   "source": [
    "import numpy as np\n",
    "import pandas as pd"
   ]
  },
  {
   "cell_type": "code",
   "execution_count": 7,
   "id": "0387f6ba",
   "metadata": {},
   "outputs": [],
   "source": [
    "from scipy.stats import rankdata"
   ]
  },
  {
   "cell_type": "code",
   "execution_count": 8,
   "id": "bd71f962",
   "metadata": {},
   "outputs": [],
   "source": [
    "from sklearn.decomposition import PCA\n",
    "from sklearn.decomposition import NMF\n",
    "from sklearn.cluster import KMeans\n",
    "from sklearn import metrics\n",
    "from sklearn import preprocessing"
   ]
  },
  {
   "cell_type": "code",
   "execution_count": 9,
   "id": "0036da07",
   "metadata": {},
   "outputs": [],
   "source": [
    "import matplotlib.pyplot as plt"
   ]
  },
  {
   "cell_type": "markdown",
   "id": "67152d4a",
   "metadata": {},
   "source": [
    "# 1. Load sc-RNA data"
   ]
  },
  {
   "cell_type": "code",
   "execution_count": 10,
   "id": "669df54a",
   "metadata": {},
   "outputs": [
    {
     "data": {
      "text/plain": [
       "(5000, 89714)"
      ]
     },
     "execution_count": 10,
     "metadata": {},
     "output_type": "execute_result"
    }
   ],
   "source": [
    "data = pd.read_table('write/VHL/kidney.tsv', sep='\\t') # processed single cell RNA-seq data (Top 5000 highly variable genes)\n",
    "data.shape"
   ]
  },
  {
   "cell_type": "code",
   "execution_count": 11,
   "id": "6f147b46",
   "metadata": {},
   "outputs": [
    {
     "data": {
      "text/plain": [
       "2785"
      ]
     },
     "execution_count": 11,
     "metadata": {},
     "output_type": "execute_result"
    }
   ],
   "source": [
    "members = [line.rstrip() for line in open('networks/VHLpathway_members.txt')] # VHL-centered subnetwork members\n",
    "len(members)"
   ]
  },
  {
   "cell_type": "code",
   "execution_count": 12,
   "id": "c2cd7127",
   "metadata": {},
   "outputs": [
    {
     "data": {
      "text/plain": [
       "(89714, 5000)"
      ]
     },
     "execution_count": 12,
     "metadata": {},
     "output_type": "execute_result"
    }
   ],
   "source": [
    "data = data.T\n",
    "data.shape"
   ]
  },
  {
   "cell_type": "code",
   "execution_count": 13,
   "id": "6f1f148b",
   "metadata": {},
   "outputs": [],
   "source": [
    "gene_in_mat = list(data.columns)"
   ]
  },
  {
   "cell_type": "code",
   "execution_count": 14,
   "id": "831e80a1",
   "metadata": {},
   "outputs": [
    {
     "data": {
      "text/plain": [
       "768"
      ]
     },
     "execution_count": 14,
     "metadata": {},
     "output_type": "execute_result"
    }
   ],
   "source": [
    "subnetwork = list(set(members) & set(gene_in_mat))\n",
    "len(subnetwork)"
   ]
  },
  {
   "cell_type": "code",
   "execution_count": 15,
   "id": "e51922e4",
   "metadata": {},
   "outputs": [
    {
     "data": {
      "text/html": [
       "<div>\n",
       "<style scoped>\n",
       "    .dataframe tbody tr th:only-of-type {\n",
       "        vertical-align: middle;\n",
       "    }\n",
       "\n",
       "    .dataframe tbody tr th {\n",
       "        vertical-align: top;\n",
       "    }\n",
       "\n",
       "    .dataframe thead th {\n",
       "        text-align: right;\n",
       "    }\n",
       "</style>\n",
       "<table border=\"1\" class=\"dataframe\">\n",
       "  <thead>\n",
       "    <tr style=\"text-align: right;\">\n",
       "      <th></th>\n",
       "      <th>NUAK1</th>\n",
       "      <th>BMF</th>\n",
       "      <th>SRSF7</th>\n",
       "      <th>LGR4</th>\n",
       "      <th>NFKB1</th>\n",
       "      <th>SKA3</th>\n",
       "      <th>CENPM</th>\n",
       "      <th>HIST3H2A</th>\n",
       "      <th>POMC</th>\n",
       "      <th>PLAT</th>\n",
       "      <th>...</th>\n",
       "      <th>HPGDS</th>\n",
       "      <th>CBLB</th>\n",
       "      <th>HNRNPH1</th>\n",
       "      <th>BRCA2</th>\n",
       "      <th>DBI</th>\n",
       "      <th>EPO</th>\n",
       "      <th>BCL6</th>\n",
       "      <th>AUNIP</th>\n",
       "      <th>RPL23A</th>\n",
       "      <th>CBX8</th>\n",
       "    </tr>\n",
       "  </thead>\n",
       "  <tbody>\n",
       "    <tr>\n",
       "      <th>exp7-human-100well.AAATTCCTCTGCAGACCGGT</th>\n",
       "      <td>0.0</td>\n",
       "      <td>0.0</td>\n",
       "      <td>0.000000</td>\n",
       "      <td>0.00000</td>\n",
       "      <td>0.000000</td>\n",
       "      <td>0.0</td>\n",
       "      <td>0.0</td>\n",
       "      <td>0.0</td>\n",
       "      <td>0.0</td>\n",
       "      <td>0.0</td>\n",
       "      <td>...</td>\n",
       "      <td>0.0</td>\n",
       "      <td>0.000000</td>\n",
       "      <td>0.0</td>\n",
       "      <td>0.0</td>\n",
       "      <td>0.0</td>\n",
       "      <td>0.0</td>\n",
       "      <td>0.0</td>\n",
       "      <td>0.0</td>\n",
       "      <td>0.000000</td>\n",
       "      <td>0.0</td>\n",
       "    </tr>\n",
       "    <tr>\n",
       "      <th>exp7-human-100well.CTCTACTGTATCATATTAG</th>\n",
       "      <td>0.0</td>\n",
       "      <td>0.0</td>\n",
       "      <td>0.000000</td>\n",
       "      <td>0.00000</td>\n",
       "      <td>0.000000</td>\n",
       "      <td>0.0</td>\n",
       "      <td>0.0</td>\n",
       "      <td>0.0</td>\n",
       "      <td>0.0</td>\n",
       "      <td>0.0</td>\n",
       "      <td>...</td>\n",
       "      <td>0.0</td>\n",
       "      <td>0.000000</td>\n",
       "      <td>0.0</td>\n",
       "      <td>0.0</td>\n",
       "      <td>0.0</td>\n",
       "      <td>0.0</td>\n",
       "      <td>0.0</td>\n",
       "      <td>0.0</td>\n",
       "      <td>0.000000</td>\n",
       "      <td>0.0</td>\n",
       "    </tr>\n",
       "    <tr>\n",
       "      <th>exp7-human-100well.TCCTATAAGTCAACCGCTAA</th>\n",
       "      <td>0.0</td>\n",
       "      <td>0.0</td>\n",
       "      <td>0.000000</td>\n",
       "      <td>0.00000</td>\n",
       "      <td>0.000000</td>\n",
       "      <td>0.0</td>\n",
       "      <td>0.0</td>\n",
       "      <td>0.0</td>\n",
       "      <td>0.0</td>\n",
       "      <td>0.0</td>\n",
       "      <td>...</td>\n",
       "      <td>0.0</td>\n",
       "      <td>0.000000</td>\n",
       "      <td>0.0</td>\n",
       "      <td>0.0</td>\n",
       "      <td>0.0</td>\n",
       "      <td>0.0</td>\n",
       "      <td>0.0</td>\n",
       "      <td>0.0</td>\n",
       "      <td>0.000000</td>\n",
       "      <td>0.0</td>\n",
       "    </tr>\n",
       "    <tr>\n",
       "      <th>exp7-human-100well.ACGACGCATTTCTTATCGA</th>\n",
       "      <td>0.0</td>\n",
       "      <td>0.0</td>\n",
       "      <td>0.000000</td>\n",
       "      <td>0.00000</td>\n",
       "      <td>0.000000</td>\n",
       "      <td>0.0</td>\n",
       "      <td>0.0</td>\n",
       "      <td>0.0</td>\n",
       "      <td>0.0</td>\n",
       "      <td>0.0</td>\n",
       "      <td>...</td>\n",
       "      <td>0.0</td>\n",
       "      <td>0.000000</td>\n",
       "      <td>0.0</td>\n",
       "      <td>0.0</td>\n",
       "      <td>0.0</td>\n",
       "      <td>0.0</td>\n",
       "      <td>0.0</td>\n",
       "      <td>0.0</td>\n",
       "      <td>0.000000</td>\n",
       "      <td>0.0</td>\n",
       "    </tr>\n",
       "    <tr>\n",
       "      <th>exp7-human-100well.TATAAGGCTTGTCCTACTTG</th>\n",
       "      <td>0.0</td>\n",
       "      <td>0.0</td>\n",
       "      <td>0.000000</td>\n",
       "      <td>0.00000</td>\n",
       "      <td>0.000000</td>\n",
       "      <td>0.0</td>\n",
       "      <td>0.0</td>\n",
       "      <td>0.0</td>\n",
       "      <td>0.0</td>\n",
       "      <td>0.0</td>\n",
       "      <td>...</td>\n",
       "      <td>0.0</td>\n",
       "      <td>0.000000</td>\n",
       "      <td>0.0</td>\n",
       "      <td>0.0</td>\n",
       "      <td>0.0</td>\n",
       "      <td>0.0</td>\n",
       "      <td>0.0</td>\n",
       "      <td>0.0</td>\n",
       "      <td>0.000000</td>\n",
       "      <td>0.0</td>\n",
       "    </tr>\n",
       "    <tr>\n",
       "      <th>...</th>\n",
       "      <td>...</td>\n",
       "      <td>...</td>\n",
       "      <td>...</td>\n",
       "      <td>...</td>\n",
       "      <td>...</td>\n",
       "      <td>...</td>\n",
       "      <td>...</td>\n",
       "      <td>...</td>\n",
       "      <td>...</td>\n",
       "      <td>...</td>\n",
       "      <td>...</td>\n",
       "      <td>...</td>\n",
       "      <td>...</td>\n",
       "      <td>...</td>\n",
       "      <td>...</td>\n",
       "      <td>...</td>\n",
       "      <td>...</td>\n",
       "      <td>...</td>\n",
       "      <td>...</td>\n",
       "      <td>...</td>\n",
       "      <td>...</td>\n",
       "    </tr>\n",
       "    <tr>\n",
       "      <th>exp7-human-274well.TTGACCAGTTTGACTTCAG</th>\n",
       "      <td>0.0</td>\n",
       "      <td>0.0</td>\n",
       "      <td>0.000000</td>\n",
       "      <td>2.45042</td>\n",
       "      <td>0.000000</td>\n",
       "      <td>0.0</td>\n",
       "      <td>0.0</td>\n",
       "      <td>0.0</td>\n",
       "      <td>0.0</td>\n",
       "      <td>0.0</td>\n",
       "      <td>...</td>\n",
       "      <td>0.0</td>\n",
       "      <td>0.000000</td>\n",
       "      <td>0.0</td>\n",
       "      <td>0.0</td>\n",
       "      <td>0.0</td>\n",
       "      <td>0.0</td>\n",
       "      <td>0.0</td>\n",
       "      <td>0.0</td>\n",
       "      <td>3.099481</td>\n",
       "      <td>0.0</td>\n",
       "    </tr>\n",
       "    <tr>\n",
       "      <th>exp7-human-274well.AAGTTCTTGTAGACTCAAGC</th>\n",
       "      <td>0.0</td>\n",
       "      <td>0.0</td>\n",
       "      <td>0.000000</td>\n",
       "      <td>0.00000</td>\n",
       "      <td>1.407669</td>\n",
       "      <td>0.0</td>\n",
       "      <td>0.0</td>\n",
       "      <td>0.0</td>\n",
       "      <td>0.0</td>\n",
       "      <td>0.0</td>\n",
       "      <td>...</td>\n",
       "      <td>0.0</td>\n",
       "      <td>1.407669</td>\n",
       "      <td>0.0</td>\n",
       "      <td>0.0</td>\n",
       "      <td>0.0</td>\n",
       "      <td>0.0</td>\n",
       "      <td>0.0</td>\n",
       "      <td>0.0</td>\n",
       "      <td>1.407669</td>\n",
       "      <td>0.0</td>\n",
       "    </tr>\n",
       "    <tr>\n",
       "      <th>exp7-human-274well.TTAATGAGCTAACCTGCGTA</th>\n",
       "      <td>0.0</td>\n",
       "      <td>0.0</td>\n",
       "      <td>3.282452</td>\n",
       "      <td>0.00000</td>\n",
       "      <td>0.000000</td>\n",
       "      <td>0.0</td>\n",
       "      <td>0.0</td>\n",
       "      <td>0.0</td>\n",
       "      <td>0.0</td>\n",
       "      <td>0.0</td>\n",
       "      <td>...</td>\n",
       "      <td>0.0</td>\n",
       "      <td>0.000000</td>\n",
       "      <td>0.0</td>\n",
       "      <td>0.0</td>\n",
       "      <td>0.0</td>\n",
       "      <td>0.0</td>\n",
       "      <td>0.0</td>\n",
       "      <td>0.0</td>\n",
       "      <td>3.282452</td>\n",
       "      <td>0.0</td>\n",
       "    </tr>\n",
       "    <tr>\n",
       "      <th>exp7-human-274well.GAACGATGTCGGTCGTTAA</th>\n",
       "      <td>0.0</td>\n",
       "      <td>0.0</td>\n",
       "      <td>0.000000</td>\n",
       "      <td>0.00000</td>\n",
       "      <td>0.000000</td>\n",
       "      <td>0.0</td>\n",
       "      <td>0.0</td>\n",
       "      <td>0.0</td>\n",
       "      <td>0.0</td>\n",
       "      <td>0.0</td>\n",
       "      <td>...</td>\n",
       "      <td>0.0</td>\n",
       "      <td>0.000000</td>\n",
       "      <td>0.0</td>\n",
       "      <td>0.0</td>\n",
       "      <td>0.0</td>\n",
       "      <td>0.0</td>\n",
       "      <td>0.0</td>\n",
       "      <td>0.0</td>\n",
       "      <td>1.986409</td>\n",
       "      <td>0.0</td>\n",
       "    </tr>\n",
       "    <tr>\n",
       "      <th>exp7-human-274well.GCCATGGTTTCGCGGTTGG</th>\n",
       "      <td>0.0</td>\n",
       "      <td>0.0</td>\n",
       "      <td>0.000000</td>\n",
       "      <td>0.00000</td>\n",
       "      <td>0.000000</td>\n",
       "      <td>0.0</td>\n",
       "      <td>0.0</td>\n",
       "      <td>0.0</td>\n",
       "      <td>0.0</td>\n",
       "      <td>0.0</td>\n",
       "      <td>...</td>\n",
       "      <td>0.0</td>\n",
       "      <td>0.000000</td>\n",
       "      <td>0.0</td>\n",
       "      <td>0.0</td>\n",
       "      <td>0.0</td>\n",
       "      <td>0.0</td>\n",
       "      <td>0.0</td>\n",
       "      <td>0.0</td>\n",
       "      <td>0.000000</td>\n",
       "      <td>0.0</td>\n",
       "    </tr>\n",
       "  </tbody>\n",
       "</table>\n",
       "<p>89714 rows × 768 columns</p>\n",
       "</div>"
      ],
      "text/plain": [
       "                                         NUAK1  BMF     SRSF7     LGR4  \\\n",
       "exp7-human-100well.AAATTCCTCTGCAGACCGGT    0.0  0.0  0.000000  0.00000   \n",
       "exp7-human-100well.CTCTACTGTATCATATTAG     0.0  0.0  0.000000  0.00000   \n",
       "exp7-human-100well.TCCTATAAGTCAACCGCTAA    0.0  0.0  0.000000  0.00000   \n",
       "exp7-human-100well.ACGACGCATTTCTTATCGA     0.0  0.0  0.000000  0.00000   \n",
       "exp7-human-100well.TATAAGGCTTGTCCTACTTG    0.0  0.0  0.000000  0.00000   \n",
       "...                                        ...  ...       ...      ...   \n",
       "exp7-human-274well.TTGACCAGTTTGACTTCAG     0.0  0.0  0.000000  2.45042   \n",
       "exp7-human-274well.AAGTTCTTGTAGACTCAAGC    0.0  0.0  0.000000  0.00000   \n",
       "exp7-human-274well.TTAATGAGCTAACCTGCGTA    0.0  0.0  3.282452  0.00000   \n",
       "exp7-human-274well.GAACGATGTCGGTCGTTAA     0.0  0.0  0.000000  0.00000   \n",
       "exp7-human-274well.GCCATGGTTTCGCGGTTGG     0.0  0.0  0.000000  0.00000   \n",
       "\n",
       "                                            NFKB1  SKA3  CENPM  HIST3H2A  \\\n",
       "exp7-human-100well.AAATTCCTCTGCAGACCGGT  0.000000   0.0    0.0       0.0   \n",
       "exp7-human-100well.CTCTACTGTATCATATTAG   0.000000   0.0    0.0       0.0   \n",
       "exp7-human-100well.TCCTATAAGTCAACCGCTAA  0.000000   0.0    0.0       0.0   \n",
       "exp7-human-100well.ACGACGCATTTCTTATCGA   0.000000   0.0    0.0       0.0   \n",
       "exp7-human-100well.TATAAGGCTTGTCCTACTTG  0.000000   0.0    0.0       0.0   \n",
       "...                                           ...   ...    ...       ...   \n",
       "exp7-human-274well.TTGACCAGTTTGACTTCAG   0.000000   0.0    0.0       0.0   \n",
       "exp7-human-274well.AAGTTCTTGTAGACTCAAGC  1.407669   0.0    0.0       0.0   \n",
       "exp7-human-274well.TTAATGAGCTAACCTGCGTA  0.000000   0.0    0.0       0.0   \n",
       "exp7-human-274well.GAACGATGTCGGTCGTTAA   0.000000   0.0    0.0       0.0   \n",
       "exp7-human-274well.GCCATGGTTTCGCGGTTGG   0.000000   0.0    0.0       0.0   \n",
       "\n",
       "                                         POMC  PLAT  ...  HPGDS      CBLB  \\\n",
       "exp7-human-100well.AAATTCCTCTGCAGACCGGT   0.0   0.0  ...    0.0  0.000000   \n",
       "exp7-human-100well.CTCTACTGTATCATATTAG    0.0   0.0  ...    0.0  0.000000   \n",
       "exp7-human-100well.TCCTATAAGTCAACCGCTAA   0.0   0.0  ...    0.0  0.000000   \n",
       "exp7-human-100well.ACGACGCATTTCTTATCGA    0.0   0.0  ...    0.0  0.000000   \n",
       "exp7-human-100well.TATAAGGCTTGTCCTACTTG   0.0   0.0  ...    0.0  0.000000   \n",
       "...                                       ...   ...  ...    ...       ...   \n",
       "exp7-human-274well.TTGACCAGTTTGACTTCAG    0.0   0.0  ...    0.0  0.000000   \n",
       "exp7-human-274well.AAGTTCTTGTAGACTCAAGC   0.0   0.0  ...    0.0  1.407669   \n",
       "exp7-human-274well.TTAATGAGCTAACCTGCGTA   0.0   0.0  ...    0.0  0.000000   \n",
       "exp7-human-274well.GAACGATGTCGGTCGTTAA    0.0   0.0  ...    0.0  0.000000   \n",
       "exp7-human-274well.GCCATGGTTTCGCGGTTGG    0.0   0.0  ...    0.0  0.000000   \n",
       "\n",
       "                                         HNRNPH1  BRCA2  DBI  EPO  BCL6  \\\n",
       "exp7-human-100well.AAATTCCTCTGCAGACCGGT      0.0    0.0  0.0  0.0   0.0   \n",
       "exp7-human-100well.CTCTACTGTATCATATTAG       0.0    0.0  0.0  0.0   0.0   \n",
       "exp7-human-100well.TCCTATAAGTCAACCGCTAA      0.0    0.0  0.0  0.0   0.0   \n",
       "exp7-human-100well.ACGACGCATTTCTTATCGA       0.0    0.0  0.0  0.0   0.0   \n",
       "exp7-human-100well.TATAAGGCTTGTCCTACTTG      0.0    0.0  0.0  0.0   0.0   \n",
       "...                                          ...    ...  ...  ...   ...   \n",
       "exp7-human-274well.TTGACCAGTTTGACTTCAG       0.0    0.0  0.0  0.0   0.0   \n",
       "exp7-human-274well.AAGTTCTTGTAGACTCAAGC      0.0    0.0  0.0  0.0   0.0   \n",
       "exp7-human-274well.TTAATGAGCTAACCTGCGTA      0.0    0.0  0.0  0.0   0.0   \n",
       "exp7-human-274well.GAACGATGTCGGTCGTTAA       0.0    0.0  0.0  0.0   0.0   \n",
       "exp7-human-274well.GCCATGGTTTCGCGGTTGG       0.0    0.0  0.0  0.0   0.0   \n",
       "\n",
       "                                         AUNIP    RPL23A  CBX8  \n",
       "exp7-human-100well.AAATTCCTCTGCAGACCGGT    0.0  0.000000   0.0  \n",
       "exp7-human-100well.CTCTACTGTATCATATTAG     0.0  0.000000   0.0  \n",
       "exp7-human-100well.TCCTATAAGTCAACCGCTAA    0.0  0.000000   0.0  \n",
       "exp7-human-100well.ACGACGCATTTCTTATCGA     0.0  0.000000   0.0  \n",
       "exp7-human-100well.TATAAGGCTTGTCCTACTTG    0.0  0.000000   0.0  \n",
       "...                                        ...       ...   ...  \n",
       "exp7-human-274well.TTGACCAGTTTGACTTCAG     0.0  3.099481   0.0  \n",
       "exp7-human-274well.AAGTTCTTGTAGACTCAAGC    0.0  1.407669   0.0  \n",
       "exp7-human-274well.TTAATGAGCTAACCTGCGTA    0.0  3.282452   0.0  \n",
       "exp7-human-274well.GAACGATGTCGGTCGTTAA     0.0  1.986409   0.0  \n",
       "exp7-human-274well.GCCATGGTTTCGCGGTTGG     0.0  0.000000   0.0  \n",
       "\n",
       "[89714 rows x 768 columns]"
      ]
     },
     "execution_count": 15,
     "metadata": {},
     "output_type": "execute_result"
    }
   ],
   "source": [
    "subnetwork_mat = data[subnetwork]\n",
    "subnetwork_mat"
   ]
  },
  {
   "cell_type": "code",
   "execution_count": 16,
   "id": "e21baf25",
   "metadata": {},
   "outputs": [
    {
     "data": {
      "text/plain": [
       "(89714, 768)"
      ]
     },
     "execution_count": 16,
     "metadata": {},
     "output_type": "execute_result"
    }
   ],
   "source": [
    "expression_values = subnetwork_mat.values\n",
    "expression_values.shape"
   ]
  },
  {
   "cell_type": "markdown",
   "id": "98d431af",
   "metadata": {},
   "source": [
    "# 2. Rank normalizing gene expression"
   ]
  },
  {
   "cell_type": "code",
   "execution_count": 17,
   "id": "ae153bc9",
   "metadata": {},
   "outputs": [
    {
     "data": {
      "text/plain": [
       "array([[  1,   1,   1, ...,   1,   1,   1],\n",
       "       [  1,   1,   1, ...,   1,   1,   1],\n",
       "       [  1,   1,   1, ...,   1,   1,   1],\n",
       "       ...,\n",
       "       [  1,   1, 748, ...,   1, 748,   1],\n",
       "       [  1,   1,   1, ...,   1, 655,   1],\n",
       "       [  1,   1,   1, ...,   1,   1,   1]])"
      ]
     },
     "execution_count": 17,
     "metadata": {},
     "output_type": "execute_result"
    }
   ],
   "source": [
    "ranked_expression_values = rankdata(expression_values, method='min', axis=1) # normalization per sample\n",
    "ranked_expression_values"
   ]
  },
  {
   "cell_type": "code",
   "execution_count": 13,
   "id": "f92e48c3",
   "metadata": {},
   "outputs": [],
   "source": [
    "n_comp = 15 # setting an upper bound of K"
   ]
  },
  {
   "cell_type": "markdown",
   "id": "5e55e45b",
   "metadata": {},
   "source": [
    "# 3. Performing PCA analysis to guide selection of k in following NMF"
   ]
  },
  {
   "cell_type": "code",
   "execution_count": 14,
   "id": "37cfa57d",
   "metadata": {},
   "outputs": [
    {
     "data": {
      "text/html": [
       "<style>#sk-container-id-1 {color: black;background-color: white;}#sk-container-id-1 pre{padding: 0;}#sk-container-id-1 div.sk-toggleable {background-color: white;}#sk-container-id-1 label.sk-toggleable__label {cursor: pointer;display: block;width: 100%;margin-bottom: 0;padding: 0.3em;box-sizing: border-box;text-align: center;}#sk-container-id-1 label.sk-toggleable__label-arrow:before {content: \"▸\";float: left;margin-right: 0.25em;color: #696969;}#sk-container-id-1 label.sk-toggleable__label-arrow:hover:before {color: black;}#sk-container-id-1 div.sk-estimator:hover label.sk-toggleable__label-arrow:before {color: black;}#sk-container-id-1 div.sk-toggleable__content {max-height: 0;max-width: 0;overflow: hidden;text-align: left;background-color: #f0f8ff;}#sk-container-id-1 div.sk-toggleable__content pre {margin: 0.2em;color: black;border-radius: 0.25em;background-color: #f0f8ff;}#sk-container-id-1 input.sk-toggleable__control:checked~div.sk-toggleable__content {max-height: 200px;max-width: 100%;overflow: auto;}#sk-container-id-1 input.sk-toggleable__control:checked~label.sk-toggleable__label-arrow:before {content: \"▾\";}#sk-container-id-1 div.sk-estimator input.sk-toggleable__control:checked~label.sk-toggleable__label {background-color: #d4ebff;}#sk-container-id-1 div.sk-label input.sk-toggleable__control:checked~label.sk-toggleable__label {background-color: #d4ebff;}#sk-container-id-1 input.sk-hidden--visually {border: 0;clip: rect(1px 1px 1px 1px);clip: rect(1px, 1px, 1px, 1px);height: 1px;margin: -1px;overflow: hidden;padding: 0;position: absolute;width: 1px;}#sk-container-id-1 div.sk-estimator {font-family: monospace;background-color: #f0f8ff;border: 1px dotted black;border-radius: 0.25em;box-sizing: border-box;margin-bottom: 0.5em;}#sk-container-id-1 div.sk-estimator:hover {background-color: #d4ebff;}#sk-container-id-1 div.sk-parallel-item::after {content: \"\";width: 100%;border-bottom: 1px solid gray;flex-grow: 1;}#sk-container-id-1 div.sk-label:hover label.sk-toggleable__label {background-color: #d4ebff;}#sk-container-id-1 div.sk-serial::before {content: \"\";position: absolute;border-left: 1px solid gray;box-sizing: border-box;top: 0;bottom: 0;left: 50%;z-index: 0;}#sk-container-id-1 div.sk-serial {display: flex;flex-direction: column;align-items: center;background-color: white;padding-right: 0.2em;padding-left: 0.2em;position: relative;}#sk-container-id-1 div.sk-item {position: relative;z-index: 1;}#sk-container-id-1 div.sk-parallel {display: flex;align-items: stretch;justify-content: center;background-color: white;position: relative;}#sk-container-id-1 div.sk-item::before, #sk-container-id-1 div.sk-parallel-item::before {content: \"\";position: absolute;border-left: 1px solid gray;box-sizing: border-box;top: 0;bottom: 0;left: 50%;z-index: -1;}#sk-container-id-1 div.sk-parallel-item {display: flex;flex-direction: column;z-index: 1;position: relative;background-color: white;}#sk-container-id-1 div.sk-parallel-item:first-child::after {align-self: flex-end;width: 50%;}#sk-container-id-1 div.sk-parallel-item:last-child::after {align-self: flex-start;width: 50%;}#sk-container-id-1 div.sk-parallel-item:only-child::after {width: 0;}#sk-container-id-1 div.sk-dashed-wrapped {border: 1px dashed gray;margin: 0 0.4em 0.5em 0.4em;box-sizing: border-box;padding-bottom: 0.4em;background-color: white;}#sk-container-id-1 div.sk-label label {font-family: monospace;font-weight: bold;display: inline-block;line-height: 1.2em;}#sk-container-id-1 div.sk-label-container {text-align: center;}#sk-container-id-1 div.sk-container {/* jupyter's `normalize.less` sets `[hidden] { display: none; }` but bootstrap.min.css set `[hidden] { display: none !important; }` so we also need the `!important` here to be able to override the default hidden behavior on the sphinx rendered scikit-learn.org. See: https://github.com/scikit-learn/scikit-learn/issues/21755 */display: inline-block !important;position: relative;}#sk-container-id-1 div.sk-text-repr-fallback {display: none;}</style><div id=\"sk-container-id-1\" class=\"sk-top-container\"><div class=\"sk-text-repr-fallback\"><pre>PCA(n_components=15)</pre><b>In a Jupyter environment, please rerun this cell to show the HTML representation or trust the notebook. <br />On GitHub, the HTML representation is unable to render, please try loading this page with nbviewer.org.</b></div><div class=\"sk-container\" hidden><div class=\"sk-item\"><div class=\"sk-estimator sk-toggleable\"><input class=\"sk-toggleable__control sk-hidden--visually\" id=\"sk-estimator-id-1\" type=\"checkbox\" checked><label for=\"sk-estimator-id-1\" class=\"sk-toggleable__label sk-toggleable__label-arrow\">PCA</label><div class=\"sk-toggleable__content\"><pre>PCA(n_components=15)</pre></div></div></div></div></div>"
      ],
      "text/plain": [
       "PCA(n_components=15)"
      ]
     },
     "execution_count": 14,
     "metadata": {},
     "output_type": "execute_result"
    }
   ],
   "source": [
    "pca = PCA(n_components=n_comp)\n",
    "pca.fit(ranked_expression_values)"
   ]
  },
  {
   "cell_type": "code",
   "execution_count": 15,
   "id": "5443f90a",
   "metadata": {},
   "outputs": [],
   "source": [
    "var = pd.Series(pca.explained_variance_ratio_, index=np.arange(1, n_comp+1))"
   ]
  },
  {
   "cell_type": "markdown",
   "id": "70152ec5",
   "metadata": {},
   "source": [
    "# 4. Searching optimized K for NMF"
   ]
  },
  {
   "cell_type": "markdown",
   "id": "458e6378",
   "metadata": {},
   "source": [
    "## 4.1 cNMF"
   ]
  },
  {
   "cell_type": "code",
   "execution_count": 28,
   "id": "7348d789",
   "metadata": {},
   "outputs": [
    {
     "name": "stdout",
     "output_type": "stream",
     "text": [
      "K=2\n",
      "K=3\n",
      "K=4\n",
      "K=5\n",
      "K=6\n",
      "K=7\n",
      "K=8\n",
      "K=9\n",
      "K=10\n",
      "K=11\n",
      "K=12\n",
      "K=13\n",
      "K=14\n",
      "K=15\n"
     ]
    }
   ],
   "source": [
    "silhouette_scores = []\n",
    "avg_errors = []\n",
    "\n",
    "for k in range(2, n_comp+1):\n",
    "    print('K={}'.format(k))\n",
    "    \n",
    "    many_H = []\n",
    "    many_error = []\n",
    "    \n",
    "    for i in range(10):\n",
    "        nmf_estimator = NMF(n_components=k, solver='cd', init='nndsvd', verbose=0, max_iter=5000)\n",
    "        W = nmf_estimator.fit_transform(ranked_expression_values)\n",
    "        H = nmf_estimator.components_\n",
    "        \n",
    "        L2_H = preprocessing.normalize(H, axis=1) # L2 normalization per program\n",
    "        many_H.append(L2_H)\n",
    "        \n",
    "        many_error.append(nmf_estimator.reconstruction_err_)\n",
    "\n",
    "    big_H = np.vstack(many_H)\n",
    "    \n",
    "    kmeans_model = KMeans(n_clusters=k, n_init='auto').fit(big_H)\n",
    "    labels = kmeans_model.labels_\n",
    "    silhouette_scores.append(metrics.silhouette_score(big_H, labels, metric='euclidean'))\n",
    "    \n",
    "    avg_errors.append(np.mean(many_error))"
   ]
  },
  {
   "cell_type": "code",
   "execution_count": 30,
   "id": "83ded3fe",
   "metadata": {},
   "outputs": [],
   "source": [
    "silhouette_scores_df = pd.Series(silhouette_scores, index=np.arange(2, n_comp+1))\n",
    "err_df = pd.Series(avg_errors, index=np.arange(2, n_comp+1))"
   ]
  },
  {
   "cell_type": "markdown",
   "id": "169d7021",
   "metadata": {},
   "source": [
    " ## 4.2 plot results"
   ]
  },
  {
   "cell_type": "code",
   "execution_count": 19,
   "id": "b0a20e07",
   "metadata": {},
   "outputs": [],
   "source": [
    "selected_k = 11 # mark selected K"
   ]
  },
  {
   "cell_type": "code",
   "execution_count": 36,
   "id": "bd09a5f8",
   "metadata": {},
   "outputs": [
    {
     "data": {
      "image/png": "[encoded data removed]",
      "text/plain": [
       "<Figure size 1200x500 with 3 Axes>"
      ]
     },
     "metadata": {},
     "output_type": "display_data"
    }
   ],
   "source": [
    "fig = plt.figure(figsize=(12,5))\n",
    "\n",
    "# plot results of PCA analysis\n",
    "ax1 = fig.add_subplot(1,2,1)\n",
    "ax1.tick_params(axis='both', direction='in', right=True, top=True, which='both')\n",
    "\n",
    "ax1.plot(var, 'o', color='blue')\n",
    "\n",
    "ax1.set_xticks(np.arange(1, n_comp+1))\n",
    "\n",
    "ax1.set_xlabel('Principal component ')\n",
    "ax1.set_ylabel('Explained variance ratio')\n",
    "\n",
    "ax1.set_yscale(\"log\")\n",
    "\n",
    "ax1.axvline(x=selected_k, linestyle='--', color='black')\n",
    "\n",
    "# plot NMF stability analysis\n",
    "ax2 = fig.add_subplot(1,2,2)\n",
    "\n",
    "line2, = ax2.plot(silhouette_scores_df, 'o-', color='blue')\n",
    "\n",
    "ax2.set_xticks(np.arange(2, n_comp+1))\n",
    "ax2.set_xlabel('K')\n",
    "ax2.set_ylabel('Silhouette score', color='blue')\n",
    "ax2.tick_params(axis='y', direction='in', right=True, which='both', colors='blue')\n",
    "ax2.tick_params(axis='x', direction='in', top=True, which='both')\n",
    "\n",
    "# plot NMF error analysis\n",
    "ax3 = ax2.twinx()\n",
    "line3, = ax3.plot(err_df, 's-', color='red')\n",
    "\n",
    "ax3.set_ylabel('Frobenius norm error', color='red')\n",
    "ax3.tick_params(axis='y', direction='in',  which='both', colors='red')\n",
    "\n",
    "ax3.legend(handles= [line2, line3], loc='lower left', labels=['Silhouette score', 'Frobenius norm error'])\n",
    "\n",
    "ax3.axvline(x=selected_k, linestyle='--', color='black')\n",
    "\n",
    "# save figures\n",
    "plt.savefig(\"figures/VHL_kidney_K.pdf\")"
   ]
  },
  {
   "cell_type": "markdown",
   "id": "cb9a77df",
   "metadata": {},
   "source": [
    "# 5. Run NMF last time to extract K gene expression programs"
   ]
  },
  {
   "cell_type": "code",
   "execution_count": 20,
   "id": "abbe36c9",
   "metadata": {},
   "outputs": [],
   "source": [
    "nmf_estimator = NMF(n_components=selected_k, solver='cd', init='nndsvd', verbose=0, random_state=1,  max_iter=5000)\n",
    "W = nmf_estimator.fit_transform(ranked_expression_values)\n",
    "H = nmf_estimator.components_"
   ]
  },
  {
   "cell_type": "code",
   "execution_count": 38,
   "id": "feae8c84",
   "metadata": {},
   "outputs": [],
   "source": [
    "H_df = pd.DataFrame(H, index=['P'+str(x+1) for x in range(selected_k)], columns=subnetwork)"
   ]
  },
  {
   "cell_type": "code",
   "execution_count": 39,
   "id": "f1c54cf2",
   "metadata": {},
   "outputs": [],
   "source": [
    "H_df.to_csv('write/VHL/VHL_kidney_GEPs.csv')"
   ]
  },
  {
   "cell_type": "code",
   "execution_count": 40,
   "id": "4ffc7a50",
   "metadata": {},
   "outputs": [],
   "source": [
    "H_df = H_df.T"
   ]
  },
  {
   "cell_type": "code",
   "execution_count": 41,
   "id": "c266e87c",
   "metadata": {},
   "outputs": [],
   "source": [
    "H_df.to_csv('write/VHL/VHL_kidney_GEPs_T.csv')"
   ]
  },
  {
   "cell_type": "code",
   "execution_count": 21,
   "id": "9521228a",
   "metadata": {},
   "outputs": [],
   "source": [
    "W_df = pd.DataFrame(W, index=data.index, columns=['P'+str(x+1) for x in range(selected_k)])"
   ]
  },
  {
   "cell_type": "code",
   "execution_count": 22,
   "id": "1a46b43a",
   "metadata": {},
   "outputs": [],
   "source": [
    "W_df.to_csv('write/VHL/VHL_kidney_NMF_W.csv')"
   ]
  }
 ],
 "metadata": {
  "kernelspec": {
   "display_name": "Python 3 (ipykernel)",
   "language": "python",
   "name": "python3"
  },
  "language_info": {
   "codemirror_mode": {
    "name": "ipython",
    "version": 3
   },
   "file_extension": ".py",
   "mimetype": "text/x-python",
   "name": "python",
   "nbconvert_exporter": "python",
   "pygments_lexer": "ipython3",
   "version": "3.10.9"
  }
 },
 "nbformat": 4,
 "nbformat_minor": 5
}
