{
 "cells": [
  {
   "cell_type": "code",
   "execution_count": 12,
   "metadata": {},
   "outputs": [],
   "source": [
    "import networkx as nx\n",
    "import pandas as pd"
   ]
  },
  {
   "cell_type": "code",
   "execution_count": 2,
   "metadata": {},
   "outputs": [],
   "source": [
    "regulons = nx.DiGraph()\n",
    "for line in open('regulon.csv'):\n",
    "    if line.startswith('Sig_TF'):\n",
    "        continue\n",
    "    \n",
    "    items = line.split(',')\n",
    "\n",
    "    tf = items[0]\n",
    "    target = items[1]\n",
    "    \n",
    "    regulons.add_edge(tf, target)\n"
   ]
  },
  {
   "cell_type": "code",
   "execution_count": 9,
   "metadata": {},
   "outputs": [],
   "source": [
    "indegrees = []\n",
    "for g in regulons.nodes():\n",
    "    idg = regulons.in_degree(g)\n",
    "    indegrees.append((idg, g))\n",
    "    \n",
    "    indegrees.sort(reverse=True)"
   ]
  },
  {
   "cell_type": "code",
   "execution_count": 15,
   "metadata": {},
   "outputs": [],
   "source": [
    "indegree_df = pd.DataFrame(indegrees, columns=['InDegree', 'Gene'])\n",
    "indegree_df.to_csv('regulons_indegree.csv', index=False)"
   ]
  }
 ],
 "metadata": {
  "kernelspec": {
   "display_name": "base",
   "language": "python",
   "name": "python3"
  },
  "language_info": {
   "codemirror_mode": {
    "name": "ipython",
    "version": 3
   },
   "file_extension": ".py",
   "mimetype": "text/x-python",
   "name": "python",
   "nbconvert_exporter": "python",
   "pygments_lexer": "ipython3",
   "version": "3.8.3"
  }
 },
 "nbformat": 4,
 "nbformat_minor": 2
}
