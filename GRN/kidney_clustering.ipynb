{
 "cells": [
  {
   "cell_type": "code",
   "execution_count": 2,
   "metadata": {},
   "outputs": [],
   "source": [
    "import pandas as pd\n",
    "import numpy as np"
   ]
  },
  {
   "cell_type": "code",
   "execution_count": 3,
   "metadata": {},
   "outputs": [],
   "source": [
    "import networkx as nx"
   ]
  },
  {
   "cell_type": "code",
   "execution_count": 4,
   "metadata": {},
   "outputs": [],
   "source": [
    "from sklearn import metrics\n",
    "from sklearn.preprocessing import StandardScaler"
   ]
  },
  {
   "cell_type": "code",
   "execution_count": 5,
   "metadata": {},
   "outputs": [],
   "source": [
    "import matplotlib.pyplot as plt"
   ]
  },
  {
   "cell_type": "code",
   "execution_count": 6,
   "metadata": {},
   "outputs": [
    {
     "data": {
      "text/plain": [
       "(1814, 18)"
      ]
     },
     "execution_count": 6,
     "metadata": {},
     "output_type": "execute_result"
    }
   ],
   "source": [
    "gsea = pd.read_csv('gsea_scores.csv', index_col=0)\n",
    "gsea.shape"
   ]
  },
  {
   "cell_type": "code",
   "execution_count": 7,
   "metadata": {},
   "outputs": [
    {
     "data": {
      "text/plain": [
       "(475, 18)"
      ]
     },
     "execution_count": 7,
     "metadata": {},
     "output_type": "execute_result"
    }
   ],
   "source": [
    "kirc_gsea = gsea[gsea['Sample_Type'] == 'KIRC_tumor']\n",
    "kirc_gsea.shape"
   ]
  },
  {
   "cell_type": "code",
   "execution_count": 8,
   "metadata": {},
   "outputs": [
    {
     "data": {
      "text/plain": [
       "(475, 17)"
      ]
     },
     "execution_count": 8,
     "metadata": {},
     "output_type": "execute_result"
    }
   ],
   "source": [
    "kirc_gsea = kirc_gsea.drop('Sample_Type', axis=1)\n",
    "kirc_gsea.shape"
   ]
  },
  {
   "cell_type": "code",
   "execution_count": 9,
   "metadata": {},
   "outputs": [],
   "source": [
    "samples = list(kirc_gsea.index)\n",
    "columns = list(kirc_gsea.columns)"
   ]
  },
  {
   "cell_type": "code",
   "execution_count": 10,
   "metadata": {},
   "outputs": [
    {
     "data": {
      "text/html": [
       "<div>\n",
       "<style scoped>\n",
       "    .dataframe tbody tr th:only-of-type {\n",
       "        vertical-align: middle;\n",
       "    }\n",
       "\n",
       "    .dataframe tbody tr th {\n",
       "        vertical-align: top;\n",
       "    }\n",
       "\n",
       "    .dataframe thead th {\n",
       "        text-align: right;\n",
       "    }\n",
       "</style>\n",
       "<table border=\"1\" class=\"dataframe\">\n",
       "  <thead>\n",
       "    <tr style=\"text-align: right;\">\n",
       "      <th></th>\n",
       "      <th>RBPJL</th>\n",
       "      <th>SNAI2</th>\n",
       "      <th>PAX5</th>\n",
       "      <th>RARB</th>\n",
       "      <th>WT1</th>\n",
       "      <th>EGR1</th>\n",
       "      <th>RBPJ</th>\n",
       "      <th>LEF1</th>\n",
       "      <th>ARNT</th>\n",
       "      <th>CREB1</th>\n",
       "      <th>SRF</th>\n",
       "      <th>MEF2C</th>\n",
       "      <th>EPAS1</th>\n",
       "      <th>GATA4</th>\n",
       "      <th>HIF1A</th>\n",
       "      <th>PAX8</th>\n",
       "      <th>AHR</th>\n",
       "    </tr>\n",
       "  </thead>\n",
       "  <tbody>\n",
       "    <tr>\n",
       "      <th>TCGA.B2.5641.01A.01R.1541.07</th>\n",
       "      <td>-0.490675</td>\n",
       "      <td>-0.719644</td>\n",
       "      <td>0.285699</td>\n",
       "      <td>-0.544927</td>\n",
       "      <td>0.549323</td>\n",
       "      <td>-0.644974</td>\n",
       "      <td>-0.075046</td>\n",
       "      <td>-0.680085</td>\n",
       "      <td>-0.192808</td>\n",
       "      <td>0.539172</td>\n",
       "      <td>0.455857</td>\n",
       "      <td>0.905694</td>\n",
       "      <td>0.401336</td>\n",
       "      <td>-0.334364</td>\n",
       "      <td>-0.308029</td>\n",
       "      <td>0.657149</td>\n",
       "      <td>-1.137724</td>\n",
       "    </tr>\n",
       "    <tr>\n",
       "      <th>TCGA.A3.3362.01A.02R.1325.07</th>\n",
       "      <td>0.726957</td>\n",
       "      <td>-0.052959</td>\n",
       "      <td>-0.523875</td>\n",
       "      <td>0.659367</td>\n",
       "      <td>-0.895923</td>\n",
       "      <td>0.041670</td>\n",
       "      <td>0.306888</td>\n",
       "      <td>-0.615878</td>\n",
       "      <td>0.985968</td>\n",
       "      <td>-0.403959</td>\n",
       "      <td>0.558185</td>\n",
       "      <td>-0.768811</td>\n",
       "      <td>0.164517</td>\n",
       "      <td>-0.943707</td>\n",
       "      <td>-0.570741</td>\n",
       "      <td>0.465772</td>\n",
       "      <td>0.709094</td>\n",
       "    </tr>\n",
       "    <tr>\n",
       "      <th>TCGA.A3.A6NL.01A.11R.A33J.07</th>\n",
       "      <td>0.324727</td>\n",
       "      <td>0.671787</td>\n",
       "      <td>0.432712</td>\n",
       "      <td>0.234604</td>\n",
       "      <td>-0.241725</td>\n",
       "      <td>0.769687</td>\n",
       "      <td>1.202441</td>\n",
       "      <td>-0.231788</td>\n",
       "      <td>0.114281</td>\n",
       "      <td>0.266096</td>\n",
       "      <td>0.677812</td>\n",
       "      <td>-0.303906</td>\n",
       "      <td>0.194540</td>\n",
       "      <td>-1.215842</td>\n",
       "      <td>-0.191647</td>\n",
       "      <td>1.150532</td>\n",
       "      <td>0.563945</td>\n",
       "    </tr>\n",
       "    <tr>\n",
       "      <th>TCGA.BP.5178.01A.01R.1426.07</th>\n",
       "      <td>0.756228</td>\n",
       "      <td>0.292934</td>\n",
       "      <td>2.003398</td>\n",
       "      <td>-0.903113</td>\n",
       "      <td>1.085854</td>\n",
       "      <td>-0.754869</td>\n",
       "      <td>-0.578393</td>\n",
       "      <td>1.141026</td>\n",
       "      <td>-1.406613</td>\n",
       "      <td>-1.481043</td>\n",
       "      <td>0.039011</td>\n",
       "      <td>1.052746</td>\n",
       "      <td>0.041470</td>\n",
       "      <td>0.917185</td>\n",
       "      <td>0.342880</td>\n",
       "      <td>0.222151</td>\n",
       "      <td>-3.247148</td>\n",
       "    </tr>\n",
       "    <tr>\n",
       "      <th>TCGA.BP.4756.01A.01R.1289.07</th>\n",
       "      <td>0.404623</td>\n",
       "      <td>-2.185154</td>\n",
       "      <td>0.393251</td>\n",
       "      <td>0.336141</td>\n",
       "      <td>0.003976</td>\n",
       "      <td>-2.648219</td>\n",
       "      <td>-2.460740</td>\n",
       "      <td>-0.167533</td>\n",
       "      <td>-0.704519</td>\n",
       "      <td>-1.580137</td>\n",
       "      <td>-1.544280</td>\n",
       "      <td>-0.779306</td>\n",
       "      <td>-1.828877</td>\n",
       "      <td>1.566625</td>\n",
       "      <td>0.866511</td>\n",
       "      <td>0.374481</td>\n",
       "      <td>-1.034220</td>\n",
       "    </tr>\n",
       "    <tr>\n",
       "      <th>...</th>\n",
       "      <td>...</td>\n",
       "      <td>...</td>\n",
       "      <td>...</td>\n",
       "      <td>...</td>\n",
       "      <td>...</td>\n",
       "      <td>...</td>\n",
       "      <td>...</td>\n",
       "      <td>...</td>\n",
       "      <td>...</td>\n",
       "      <td>...</td>\n",
       "      <td>...</td>\n",
       "      <td>...</td>\n",
       "      <td>...</td>\n",
       "      <td>...</td>\n",
       "      <td>...</td>\n",
       "      <td>...</td>\n",
       "      <td>...</td>\n",
       "    </tr>\n",
       "    <tr>\n",
       "      <th>TCGA.BP.5196.01A.01R.1426.07</th>\n",
       "      <td>0.441016</td>\n",
       "      <td>0.774614</td>\n",
       "      <td>1.173632</td>\n",
       "      <td>0.179758</td>\n",
       "      <td>0.584846</td>\n",
       "      <td>0.790392</td>\n",
       "      <td>0.279138</td>\n",
       "      <td>1.258185</td>\n",
       "      <td>-0.270865</td>\n",
       "      <td>0.052383</td>\n",
       "      <td>0.075851</td>\n",
       "      <td>-0.004028</td>\n",
       "      <td>0.240465</td>\n",
       "      <td>0.837212</td>\n",
       "      <td>1.145066</td>\n",
       "      <td>-1.052441</td>\n",
       "      <td>0.180227</td>\n",
       "    </tr>\n",
       "    <tr>\n",
       "      <th>TCGA.B8.4622.01A.02R.1277.07</th>\n",
       "      <td>0.093433</td>\n",
       "      <td>0.218931</td>\n",
       "      <td>0.087305</td>\n",
       "      <td>-0.424472</td>\n",
       "      <td>-0.315171</td>\n",
       "      <td>0.173427</td>\n",
       "      <td>0.189540</td>\n",
       "      <td>-0.648756</td>\n",
       "      <td>0.656867</td>\n",
       "      <td>-0.038675</td>\n",
       "      <td>1.467431</td>\n",
       "      <td>0.560899</td>\n",
       "      <td>0.495145</td>\n",
       "      <td>0.470838</td>\n",
       "      <td>-0.642535</td>\n",
       "      <td>0.746361</td>\n",
       "      <td>0.464668</td>\n",
       "    </tr>\n",
       "    <tr>\n",
       "      <th>TCGA.B0.5077.01A.01R.1334.07</th>\n",
       "      <td>-0.665550</td>\n",
       "      <td>0.044285</td>\n",
       "      <td>0.110603</td>\n",
       "      <td>0.212062</td>\n",
       "      <td>-0.423883</td>\n",
       "      <td>0.409681</td>\n",
       "      <td>0.681902</td>\n",
       "      <td>0.036981</td>\n",
       "      <td>1.009190</td>\n",
       "      <td>0.066993</td>\n",
       "      <td>-0.366627</td>\n",
       "      <td>-0.562292</td>\n",
       "      <td>0.287096</td>\n",
       "      <td>-0.113947</td>\n",
       "      <td>0.013129</td>\n",
       "      <td>0.679278</td>\n",
       "      <td>0.495335</td>\n",
       "    </tr>\n",
       "    <tr>\n",
       "      <th>TCGA.AK.3465.01A.02R.1325.07</th>\n",
       "      <td>1.445124</td>\n",
       "      <td>-2.848785</td>\n",
       "      <td>-1.139638</td>\n",
       "      <td>0.110064</td>\n",
       "      <td>-1.536370</td>\n",
       "      <td>-2.835338</td>\n",
       "      <td>-1.985213</td>\n",
       "      <td>-0.032207</td>\n",
       "      <td>-3.461025</td>\n",
       "      <td>-3.187754</td>\n",
       "      <td>-3.399458</td>\n",
       "      <td>-2.056217</td>\n",
       "      <td>-3.170111</td>\n",
       "      <td>0.837401</td>\n",
       "      <td>2.125613</td>\n",
       "      <td>-0.957897</td>\n",
       "      <td>-0.195847</td>\n",
       "    </tr>\n",
       "    <tr>\n",
       "      <th>TCGA.BP.4176.01A.02R.1289.07</th>\n",
       "      <td>0.835176</td>\n",
       "      <td>0.053180</td>\n",
       "      <td>-0.136425</td>\n",
       "      <td>-1.137845</td>\n",
       "      <td>0.886381</td>\n",
       "      <td>0.263979</td>\n",
       "      <td>-0.677907</td>\n",
       "      <td>0.355212</td>\n",
       "      <td>-0.024022</td>\n",
       "      <td>0.641050</td>\n",
       "      <td>0.421811</td>\n",
       "      <td>-0.330174</td>\n",
       "      <td>0.476597</td>\n",
       "      <td>0.825176</td>\n",
       "      <td>0.372496</td>\n",
       "      <td>-1.378003</td>\n",
       "      <td>-0.317168</td>\n",
       "    </tr>\n",
       "  </tbody>\n",
       "</table>\n",
       "<p>475 rows × 17 columns</p>\n",
       "</div>"
      ],
      "text/plain": [
       "                                 RBPJL     SNAI2      PAX5      RARB  \\\n",
       "TCGA.B2.5641.01A.01R.1541.07 -0.490675 -0.719644  0.285699 -0.544927   \n",
       "TCGA.A3.3362.01A.02R.1325.07  0.726957 -0.052959 -0.523875  0.659367   \n",
       "TCGA.A3.A6NL.01A.11R.A33J.07  0.324727  0.671787  0.432712  0.234604   \n",
       "TCGA.BP.5178.01A.01R.1426.07  0.756228  0.292934  2.003398 -0.903113   \n",
       "TCGA.BP.4756.01A.01R.1289.07  0.404623 -2.185154  0.393251  0.336141   \n",
       "...                                ...       ...       ...       ...   \n",
       "TCGA.BP.5196.01A.01R.1426.07  0.441016  0.774614  1.173632  0.179758   \n",
       "TCGA.B8.4622.01A.02R.1277.07  0.093433  0.218931  0.087305 -0.424472   \n",
       "TCGA.B0.5077.01A.01R.1334.07 -0.665550  0.044285  0.110603  0.212062   \n",
       "TCGA.AK.3465.01A.02R.1325.07  1.445124 -2.848785 -1.139638  0.110064   \n",
       "TCGA.BP.4176.01A.02R.1289.07  0.835176  0.053180 -0.136425 -1.137845   \n",
       "\n",
       "                                   WT1      EGR1      RBPJ      LEF1  \\\n",
       "TCGA.B2.5641.01A.01R.1541.07  0.549323 -0.644974 -0.075046 -0.680085   \n",
       "TCGA.A3.3362.01A.02R.1325.07 -0.895923  0.041670  0.306888 -0.615878   \n",
       "TCGA.A3.A6NL.01A.11R.A33J.07 -0.241725  0.769687  1.202441 -0.231788   \n",
       "TCGA.BP.5178.01A.01R.1426.07  1.085854 -0.754869 -0.578393  1.141026   \n",
       "TCGA.BP.4756.01A.01R.1289.07  0.003976 -2.648219 -2.460740 -0.167533   \n",
       "...                                ...       ...       ...       ...   \n",
       "TCGA.BP.5196.01A.01R.1426.07  0.584846  0.790392  0.279138  1.258185   \n",
       "TCGA.B8.4622.01A.02R.1277.07 -0.315171  0.173427  0.189540 -0.648756   \n",
       "TCGA.B0.5077.01A.01R.1334.07 -0.423883  0.409681  0.681902  0.036981   \n",
       "TCGA.AK.3465.01A.02R.1325.07 -1.536370 -2.835338 -1.985213 -0.032207   \n",
       "TCGA.BP.4176.01A.02R.1289.07  0.886381  0.263979 -0.677907  0.355212   \n",
       "\n",
       "                                  ARNT     CREB1       SRF     MEF2C  \\\n",
       "TCGA.B2.5641.01A.01R.1541.07 -0.192808  0.539172  0.455857  0.905694   \n",
       "TCGA.A3.3362.01A.02R.1325.07  0.985968 -0.403959  0.558185 -0.768811   \n",
       "TCGA.A3.A6NL.01A.11R.A33J.07  0.114281  0.266096  0.677812 -0.303906   \n",
       "TCGA.BP.5178.01A.01R.1426.07 -1.406613 -1.481043  0.039011  1.052746   \n",
       "TCGA.BP.4756.01A.01R.1289.07 -0.704519 -1.580137 -1.544280 -0.779306   \n",
       "...                                ...       ...       ...       ...   \n",
       "TCGA.BP.5196.01A.01R.1426.07 -0.270865  0.052383  0.075851 -0.004028   \n",
       "TCGA.B8.4622.01A.02R.1277.07  0.656867 -0.038675  1.467431  0.560899   \n",
       "TCGA.B0.5077.01A.01R.1334.07  1.009190  0.066993 -0.366627 -0.562292   \n",
       "TCGA.AK.3465.01A.02R.1325.07 -3.461025 -3.187754 -3.399458 -2.056217   \n",
       "TCGA.BP.4176.01A.02R.1289.07 -0.024022  0.641050  0.421811 -0.330174   \n",
       "\n",
       "                                 EPAS1     GATA4     HIF1A      PAX8       AHR  \n",
       "TCGA.B2.5641.01A.01R.1541.07  0.401336 -0.334364 -0.308029  0.657149 -1.137724  \n",
       "TCGA.A3.3362.01A.02R.1325.07  0.164517 -0.943707 -0.570741  0.465772  0.709094  \n",
       "TCGA.A3.A6NL.01A.11R.A33J.07  0.194540 -1.215842 -0.191647  1.150532  0.563945  \n",
       "TCGA.BP.5178.01A.01R.1426.07  0.041470  0.917185  0.342880  0.222151 -3.247148  \n",
       "TCGA.BP.4756.01A.01R.1289.07 -1.828877  1.566625  0.866511  0.374481 -1.034220  \n",
       "...                                ...       ...       ...       ...       ...  \n",
       "TCGA.BP.5196.01A.01R.1426.07  0.240465  0.837212  1.145066 -1.052441  0.180227  \n",
       "TCGA.B8.4622.01A.02R.1277.07  0.495145  0.470838 -0.642535  0.746361  0.464668  \n",
       "TCGA.B0.5077.01A.01R.1334.07  0.287096 -0.113947  0.013129  0.679278  0.495335  \n",
       "TCGA.AK.3465.01A.02R.1325.07 -3.170111  0.837401  2.125613 -0.957897 -0.195847  \n",
       "TCGA.BP.4176.01A.02R.1289.07  0.476597  0.825176  0.372496 -1.378003 -0.317168  \n",
       "\n",
       "[475 rows x 17 columns]"
      ]
     },
     "execution_count": 10,
     "metadata": {},
     "output_type": "execute_result"
    }
   ],
   "source": [
    "scaler = StandardScaler().fit(kirc_gsea)\n",
    "kirc_gsea_scaled = scaler.transform(kirc_gsea) # standardization of datasets\n",
    "\n",
    "kirc_gsea_scaled = pd.DataFrame(kirc_gsea_scaled, index=samples, columns=columns)\n",
    "kirc_gsea_scaled"
   ]
  },
  {
   "cell_type": "markdown",
   "metadata": {},
   "source": [
    "### Clustering"
   ]
  },
  {
   "cell_type": "code",
   "execution_count": 10,
   "metadata": {},
   "outputs": [
    {
     "data": {
      "text/plain": [
       "(475, 475)"
      ]
     },
     "execution_count": 10,
     "metadata": {},
     "output_type": "execute_result"
    }
   ],
   "source": [
    "corM = np.corrcoef(kirc_gsea_scaled)\n",
    "corM.shape"
   ]
  },
  {
   "cell_type": "code",
   "execution_count": 11,
   "metadata": {},
   "outputs": [
    {
     "name": "stdout",
     "output_type": "stream",
     "text": [
      "Nodes: 475\n",
      "Edges: 27297\n"
     ]
    }
   ],
   "source": [
    "cutoff = 0.4\n",
    "G = nx.Graph()\n",
    "\n",
    "G.add_nodes_from(samples)\n",
    "\n",
    "for i in range(len(samples)-1):\n",
    "    for j in range(i+1, len(samples)):\n",
    "        if corM[i, j] >= cutoff:\n",
    "            G.add_edge(samples[i], samples[j])\n",
    "\n",
    "print('Nodes: {}'.format(G.number_of_nodes()))\n",
    "print('Edges: {}'.format(G.number_of_edges()))"
   ]
  },
  {
   "cell_type": "code",
   "execution_count": 12,
   "metadata": {},
   "outputs": [],
   "source": [
    "clusters = nx.community.louvain_communities(G, seed=100, weight=None)"
   ]
  },
  {
   "cell_type": "code",
   "execution_count": 13,
   "metadata": {},
   "outputs": [
    {
     "name": "stdout",
     "output_type": "stream",
     "text": [
      "Number of outliers: 0\n"
     ]
    }
   ],
   "source": [
    "filtered_clusters = {}\n",
    "outliers = []\n",
    "cluster_size = []\n",
    "\n",
    "cluster_idx = 0\n",
    "for i in range(len(clusters)):\n",
    "    cluster_size.append(len(clusters[i]))\n",
    "\n",
    "    if len(clusters[i]) >= 20:\n",
    "        for each_sample in clusters[i]:\n",
    "            filtered_clusters[each_sample] = cluster_idx\n",
    "        \n",
    "        cluster_idx += 1\n",
    "\n",
    "    else:\n",
    "        for each_sample in clusters[i]:\n",
    "            outliers.append(each_sample)\n",
    "\n",
    "print('Number of outliers: {}'.format(len(outliers)))"
   ]
  },
  {
   "cell_type": "code",
   "execution_count": 20,
   "metadata": {},
   "outputs": [],
   "source": [
    "for node in G.nodes():\n",
    "    if node in filtered_clusters:\n",
    "        G.nodes[node]['cluster_idx'] = filtered_clusters[node]\n",
    "    else:\n",
    "        G.nodes[node]['cluster_idx'] = -1\n",
    "\n",
    "for a, b in G.edges():\n",
    "    if G.nodes[a]['cluster_idx'] == G.nodes[b]['cluster_idx']:\n",
    "        G.edges[a, b]['cluster_idx'] = G.nodes[a]['cluster_idx']\n",
    "    else:\n",
    "        G.edges[a, b]['cluster_idx'] = -1\n",
    "\n",
    "nx.write_gml(G, 'G.gml')"
   ]
  },
  {
   "cell_type": "code",
   "execution_count": 18,
   "metadata": {},
   "outputs": [
    {
     "data": {
      "text/plain": [
       "0"
      ]
     },
     "execution_count": 18,
     "metadata": {},
     "output_type": "execute_result"
    }
   ],
   "source": [
    "G.nodes[samples[0]]['cluster_idx']"
   ]
  },
  {
   "cell_type": "code",
   "execution_count": 56,
   "metadata": {},
   "outputs": [],
   "source": [
    "f = open('cluster_res.csv', 'w')\n",
    "f.write('Sample,Cluster_Idx\\n')\n",
    "for k,v in filtered_clusters.items():\n",
    "    f.write('{},{}\\n'.format(k,v))\n",
    "f.close()"
   ]
  },
  {
   "cell_type": "code",
   "execution_count": 47,
   "metadata": {},
   "outputs": [
    {
     "data": {
      "text/plain": [
       "<matplotlib.collections.LineCollection at 0x1818529cbb0>"
      ]
     },
     "execution_count": 47,
     "metadata": {},
     "output_type": "execute_result"
    },
    {
     "data": {
      "image/png": "[encoded data removed]",
      "text/plain": [
       "<Figure size 640x480 with 1 Axes>"
      ]
     },
     "metadata": {},
     "output_type": "display_data"
    }
   ],
   "source": [
    "fig = plt.figure()\n",
    "ax1 = fig.add_subplot(1,1,1)\n",
    "ax1.stem(cluster_size)\n",
    "ax1.hlines(y=20, linestyles='dashed', xmin=0, xmax=120, colors='red')"
   ]
  },
  {
   "cell_type": "code",
   "execution_count": 48,
   "metadata": {},
   "outputs": [
    {
     "data": {
      "text/plain": [
       "{0, 1, 2}"
      ]
     },
     "execution_count": 48,
     "metadata": {},
     "output_type": "execute_result"
    }
   ],
   "source": [
    "set(filtered_clusters.values())"
   ]
  },
  {
   "cell_type": "code",
   "execution_count": 49,
   "metadata": {},
   "outputs": [
    {
     "data": {
      "text/plain": [
       "(475, 17)"
      ]
     },
     "execution_count": 49,
     "metadata": {},
     "output_type": "execute_result"
    }
   ],
   "source": [
    "filtered_kirc_gsea = kirc_gsea_scaled.drop(outliers, axis=0)\n",
    "filtered_kirc_gsea.shape"
   ]
  },
  {
   "cell_type": "code",
   "execution_count": 50,
   "metadata": {},
   "outputs": [],
   "source": [
    "labels = []\n",
    "filtered_samples = list(filtered_kirc_gsea.index)\n",
    "for each_sample in filtered_samples:\n",
    "    labels.append(filtered_clusters[each_sample])"
   ]
  },
  {
   "cell_type": "code",
   "execution_count": 51,
   "metadata": {},
   "outputs": [
    {
     "data": {
      "text/plain": [
       "0.32579973746561947"
      ]
     },
     "execution_count": 51,
     "metadata": {},
     "output_type": "execute_result"
    }
   ],
   "source": [
    "metrics.silhouette_score(filtered_kirc_gsea, labels, metric='cosine')"
   ]
  },
  {
   "cell_type": "code",
   "execution_count": 52,
   "metadata": {},
   "outputs": [
    {
     "data": {
      "text/plain": [
       "116.57897112633302"
      ]
     },
     "execution_count": 52,
     "metadata": {},
     "output_type": "execute_result"
    }
   ],
   "source": [
    "metrics.calinski_harabasz_score(filtered_kirc_gsea, labels)"
   ]
  },
  {
   "cell_type": "markdown",
   "metadata": {},
   "source": [
    "### Searching optimizied K"
   ]
  },
  {
   "cell_type": "code",
   "execution_count": 40,
   "metadata": {},
   "outputs": [
    {
     "data": {
      "text/html": [
       "<div>\n",
       "<style scoped>\n",
       "    .dataframe tbody tr th:only-of-type {\n",
       "        vertical-align: middle;\n",
       "    }\n",
       "\n",
       "    .dataframe tbody tr th {\n",
       "        vertical-align: top;\n",
       "    }\n",
       "\n",
       "    .dataframe thead th {\n",
       "        text-align: right;\n",
       "    }\n",
       "</style>\n",
       "<table border=\"1\" class=\"dataframe\">\n",
       "  <thead>\n",
       "    <tr style=\"text-align: right;\">\n",
       "      <th></th>\n",
       "      <th>PCC_Cutoff</th>\n",
       "      <th>Number_of_Sample</th>\n",
       "      <th>Coverage_of_Sample</th>\n",
       "      <th>Number_of_Cluster</th>\n",
       "      <th>Silhouette_Score</th>\n",
       "      <th>Calinski_Harabasz_Score</th>\n",
       "    </tr>\n",
       "  </thead>\n",
       "  <tbody>\n",
       "    <tr>\n",
       "      <th>0</th>\n",
       "      <td>0.30</td>\n",
       "      <td>475</td>\n",
       "      <td>100.000000</td>\n",
       "      <td>3</td>\n",
       "      <td>0.316691</td>\n",
       "      <td>113.186485</td>\n",
       "    </tr>\n",
       "    <tr>\n",
       "      <th>1</th>\n",
       "      <td>0.35</td>\n",
       "      <td>475</td>\n",
       "      <td>100.000000</td>\n",
       "      <td>3</td>\n",
       "      <td>0.322840</td>\n",
       "      <td>115.433078</td>\n",
       "    </tr>\n",
       "    <tr>\n",
       "      <th>2</th>\n",
       "      <td>0.40</td>\n",
       "      <td>475</td>\n",
       "      <td>100.000000</td>\n",
       "      <td>3</td>\n",
       "      <td>0.325800</td>\n",
       "      <td>116.578971</td>\n",
       "    </tr>\n",
       "    <tr>\n",
       "      <th>3</th>\n",
       "      <td>0.45</td>\n",
       "      <td>475</td>\n",
       "      <td>100.000000</td>\n",
       "      <td>3</td>\n",
       "      <td>0.323249</td>\n",
       "      <td>115.310315</td>\n",
       "    </tr>\n",
       "    <tr>\n",
       "      <th>4</th>\n",
       "      <td>0.50</td>\n",
       "      <td>475</td>\n",
       "      <td>100.000000</td>\n",
       "      <td>4</td>\n",
       "      <td>0.224805</td>\n",
       "      <td>88.301593</td>\n",
       "    </tr>\n",
       "    <tr>\n",
       "      <th>5</th>\n",
       "      <td>0.55</td>\n",
       "      <td>472</td>\n",
       "      <td>99.368421</td>\n",
       "      <td>4</td>\n",
       "      <td>0.245488</td>\n",
       "      <td>90.630559</td>\n",
       "    </tr>\n",
       "    <tr>\n",
       "      <th>6</th>\n",
       "      <td>0.60</td>\n",
       "      <td>473</td>\n",
       "      <td>99.578947</td>\n",
       "      <td>4</td>\n",
       "      <td>0.226544</td>\n",
       "      <td>89.751068</td>\n",
       "    </tr>\n",
       "    <tr>\n",
       "      <th>7</th>\n",
       "      <td>0.65</td>\n",
       "      <td>462</td>\n",
       "      <td>97.263158</td>\n",
       "      <td>5</td>\n",
       "      <td>0.258974</td>\n",
       "      <td>108.232493</td>\n",
       "    </tr>\n",
       "    <tr>\n",
       "      <th>8</th>\n",
       "      <td>0.70</td>\n",
       "      <td>442</td>\n",
       "      <td>93.052632</td>\n",
       "      <td>5</td>\n",
       "      <td>0.270422</td>\n",
       "      <td>105.560380</td>\n",
       "    </tr>\n",
       "    <tr>\n",
       "      <th>9</th>\n",
       "      <td>0.75</td>\n",
       "      <td>416</td>\n",
       "      <td>87.578947</td>\n",
       "      <td>7</td>\n",
       "      <td>0.261324</td>\n",
       "      <td>93.017750</td>\n",
       "    </tr>\n",
       "    <tr>\n",
       "      <th>10</th>\n",
       "      <td>0.80</td>\n",
       "      <td>341</td>\n",
       "      <td>71.789474</td>\n",
       "      <td>6</td>\n",
       "      <td>0.317357</td>\n",
       "      <td>104.763609</td>\n",
       "    </tr>\n",
       "    <tr>\n",
       "      <th>11</th>\n",
       "      <td>0.85</td>\n",
       "      <td>244</td>\n",
       "      <td>51.368421</td>\n",
       "      <td>5</td>\n",
       "      <td>0.392263</td>\n",
       "      <td>118.655987</td>\n",
       "    </tr>\n",
       "  </tbody>\n",
       "</table>\n",
       "</div>"
      ],
      "text/plain": [
       "    PCC_Cutoff  Number_of_Sample  Coverage_of_Sample  Number_of_Cluster  \\\n",
       "0         0.30               475          100.000000                  3   \n",
       "1         0.35               475          100.000000                  3   \n",
       "2         0.40               475          100.000000                  3   \n",
       "3         0.45               475          100.000000                  3   \n",
       "4         0.50               475          100.000000                  4   \n",
       "5         0.55               472           99.368421                  4   \n",
       "6         0.60               473           99.578947                  4   \n",
       "7         0.65               462           97.263158                  5   \n",
       "8         0.70               442           93.052632                  5   \n",
       "9         0.75               416           87.578947                  7   \n",
       "10        0.80               341           71.789474                  6   \n",
       "11        0.85               244           51.368421                  5   \n",
       "\n",
       "    Silhouette_Score  Calinski_Harabasz_Score  \n",
       "0           0.316691               113.186485  \n",
       "1           0.322840               115.433078  \n",
       "2           0.325800               116.578971  \n",
       "3           0.323249               115.310315  \n",
       "4           0.224805                88.301593  \n",
       "5           0.245488                90.630559  \n",
       "6           0.226544                89.751068  \n",
       "7           0.258974               108.232493  \n",
       "8           0.270422               105.560380  \n",
       "9           0.261324                93.017750  \n",
       "10          0.317357               104.763609  \n",
       "11          0.392263               118.655987  "
      ]
     },
     "execution_count": 40,
     "metadata": {},
     "output_type": "execute_result"
    }
   ],
   "source": [
    "cutoffs = [0.3, 0.35, 0.4, 0.45, 0.5, 0.55, 0.6, 0.65, 0.7, 0.75, 0.8, 0.85]\n",
    "sample_num = []\n",
    "coverage = []\n",
    "cluster_num = []\n",
    "silhouette = []\n",
    "calinski = []\n",
    "\n",
    "for cutoff in cutoffs:\n",
    "\n",
    "    # create network\n",
    "    G = nx.Graph()\n",
    "\n",
    "    G.add_nodes_from(samples)\n",
    "\n",
    "    for i in range(len(samples)-1):\n",
    "        for j in range(i+1, len(samples)):\n",
    "            if corM[i, j] >= cutoff:\n",
    "                G.add_edge(samples[i], samples[j])\n",
    "\n",
    "    # clustering\n",
    "    clusters = nx.community.louvain_communities(G, seed=100, weight=None)\n",
    "\n",
    "    # filter small modules out\n",
    "    filtered_clusters = {}\n",
    "    outliers = []\n",
    "    cluster_size = []\n",
    "\n",
    "    cluster_idx = 0\n",
    "    for i in range(len(clusters)):\n",
    "        cluster_size.append(len(clusters[i]))\n",
    "\n",
    "        if len(clusters[i]) >= 20:\n",
    "            for each_sample in clusters[i]:\n",
    "                filtered_clusters[each_sample] = cluster_idx\n",
    "            \n",
    "            cluster_idx += 1\n",
    "\n",
    "        else:\n",
    "            for each_sample in clusters[i]:\n",
    "                outliers.append(each_sample)\n",
    "    \n",
    "    # compute clustering score\n",
    "    filtered_kirc_gsea = kirc_gsea_scaled.drop(outliers, axis=0)\n",
    "\n",
    "    labels = []\n",
    "    filtered_samples = list(filtered_kirc_gsea.index)\n",
    "    for each_sample in filtered_samples:\n",
    "        labels.append(filtered_clusters[each_sample])\n",
    "\n",
    "    sc = metrics.silhouette_score(filtered_kirc_gsea, labels, metric='cosine')\n",
    "    chc = metrics.calinski_harabasz_score(filtered_kirc_gsea, labels)\n",
    "\n",
    "    sample_num.append(len(filtered_samples))\n",
    "    coverage.append(float(len(filtered_samples))/len(samples)*100)\n",
    "    cluster_num.append(len(set(labels)))\n",
    "    silhouette.append(sc)\n",
    "    calinski.append(chc)\n",
    "\n",
    "clustering_stats = pd.DataFrame({'PCC_Cutoff': cutoffs,\n",
    "                                 'Number_of_Sample':sample_num,\n",
    "                                 'Coverage_of_Sample':coverage,\n",
    "                                 'Number_of_Cluster': cluster_num,\n",
    "                                 'Silhouette_Score': silhouette,\n",
    "                                 'Calinski_Harabasz_Score':calinski})\n",
    "\n",
    "clustering_stats\n"
   ]
  },
  {
   "cell_type": "code",
   "execution_count": 42,
   "metadata": {},
   "outputs": [],
   "source": [
    "clustering_stats.to_csv('clustering_stats.csv', index=False)"
   ]
  }
 ],
 "metadata": {
  "kernelspec": {
   "display_name": "base",
   "language": "python",
   "name": "python3"
  },
  "language_info": {
   "codemirror_mode": {
    "name": "ipython",
    "version": 3
   },
   "file_extension": ".py",
   "mimetype": "text/x-python",
   "name": "python",
   "nbconvert_exporter": "python",
   "pygments_lexer": "ipython3",
   "version": "3.8.3"
  }
 },
 "nbformat": 4,
 "nbformat_minor": 2
}
