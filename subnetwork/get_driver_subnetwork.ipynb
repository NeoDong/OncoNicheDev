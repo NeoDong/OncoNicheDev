{
 "cells": [
  {
   "cell_type": "code",
   "execution_count": 1,
   "metadata": {},
   "outputs": [],
   "source": [
    "import networkx as nx\n",
    "import sys"
   ]
  },
  {
   "cell_type": "code",
   "execution_count": 2,
   "metadata": {},
   "outputs": [],
   "source": [
    "def load_network(string_link_file, node_info, cutoff=750):\n",
    "    network = nx.Graph()\n",
    "    for line in open(string_link_file):\n",
    "        line = line.rstrip()\n",
    "        if line.startswith('protein'):\n",
    "            continue\n",
    "        else:\n",
    "            try:\n",
    "             p1, p2, score = line.split()\n",
    "            except ValueError:\n",
    "                print(line)\n",
    "                sys.exit(1)\n",
    "                \n",
    "            score = float(score)\n",
    "            \n",
    "            if score >= cutoff:\n",
    "                p1 = node_info[p1]\n",
    "                p2 = node_info[p2]\n",
    "                network.add_edge(p1, p2)\n",
    "    \n",
    "    return network"
   ]
  },
  {
   "cell_type": "code",
   "execution_count": 3,
   "metadata": {},
   "outputs": [],
   "source": [
    "def load_node_info(string_info_file):\n",
    "    node_info = {}\n",
    "    for line in open(string_info_file):\n",
    "        line = line.rstrip() \n",
    "        if line.startswith('#'):\n",
    "            continue\n",
    "        else:\n",
    "            items = line.split('\\t')\n",
    "            p = items[0]\n",
    "            name = items[1]\n",
    "            \n",
    "            node_info[p] = name\n",
    "    \n",
    "    return node_info"
   ]
  },
  {
   "cell_type": "code",
   "execution_count": 4,
   "metadata": {},
   "outputs": [],
   "source": [
    "center = 'VHL' # modifying center as your gene"
   ]
  },
  {
   "cell_type": "code",
   "execution_count": 5,
   "metadata": {},
   "outputs": [],
   "source": [
    "node_info =  load_node_info('9606.protein.info.v11.5.txt')\n",
    "G = load_network('9606.protein.links.v11.5.txt', node_info, cutoff=750)\n",
    "    \n",
    "Gcc = sorted(nx.connected_components(G), key=len, reverse=True)\n",
    "G0 = G.subgraph(Gcc[0]) # select the largest connected component\n",
    "    \n",
    "\n",
    "first_nbs = [nb for nb in G0.neighbors(center)]\n",
    "second_nbs = []\n",
    "    \n",
    "for n in first_nbs:\n",
    "    second_nbs = second_nbs + [nb for nb in G0.neighbors(n)]\n",
    "    \n",
    "second_nbs_nr = set(second_nbs) - set(first_nbs+[center])\n",
    "        \n",
    "G0.nodes[center]['distance'] = 0\n",
    "    \n",
    "for nb in first_nbs:\n",
    "    G0.nodes[nb]['distance'] = 1\n",
    "        \n",
    "for nb in second_nbs_nr:\n",
    "    G0.nodes[nb]['distance'] = 2\n",
    "    \n",
    "#nx.write_gml(G0, path='gene_highlighted_network.gml')\n",
    "\n",
    "sub = G.subgraph([center]+first_nbs+list(second_nbs_nr))\n",
    "nx.write_gml(sub, path=center+'_centered_subnetwork.gml')\n",
    "    \n",
    "f = open(center+'_subnetwork_members.txt', 'w')\n",
    "for node in sub.nodes():\n",
    "    f.write(node+'\\n')\n",
    "f.close()"
   ]
  }
 ],
 "metadata": {
  "kernelspec": {
   "display_name": "base",
   "language": "python",
   "name": "python3"
  },
  "language_info": {
   "codemirror_mode": {
    "name": "ipython",
    "version": 3
   },
   "file_extension": ".py",
   "mimetype": "text/x-python",
   "name": "python",
   "nbconvert_exporter": "python",
   "pygments_lexer": "ipython3",
   "version": "3.8.3"
  },
  "orig_nbformat": 4
 },
 "nbformat": 4,
 "nbformat_minor": 2
}
