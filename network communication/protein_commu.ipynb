{
 "cells": [
  {
   "cell_type": "code",
   "execution_count": 1,
   "metadata": {},
   "outputs": [],
   "source": [
    "import math\n",
    "import copy\n",
    "import random\n",
    "import time"
   ]
  },
  {
   "cell_type": "code",
   "execution_count": 2,
   "metadata": {},
   "outputs": [],
   "source": [
    "import networkx as nx\n",
    "import pandas as pd"
   ]
  },
  {
   "cell_type": "code",
   "execution_count": 3,
   "metadata": {},
   "outputs": [],
   "source": [
    "from joblib import Parallel, delayed"
   ]
  },
  {
   "cell_type": "code",
   "execution_count": 4,
   "metadata": {},
   "outputs": [],
   "source": [
    "def unweighted_search_information(G, paths):\n",
    "    path_len = len(paths[0])-1\n",
    "\n",
    "    ICs = []\n",
    "    for path in paths:\n",
    "        k = list(nx.degree(G, nbunch=path)) # return degrees (k) of nodes in the shorest path: [(node, degree), ...]\n",
    "        temp = 0.0\n",
    "        for i in range(len(k)-1):\n",
    "            if i == 0:\n",
    "                temp = 1.0/k[i][1]\n",
    "            else:\n",
    "                temp = temp*(1.0/(k[i][1]-1))\n",
    "        \n",
    "        ICs.append(temp)\n",
    "\n",
    "    S = -1*math.log2(sum(ICs))\n",
    "\n",
    "    return (path_len, S)"
   ]
  },
  {
   "cell_type": "code",
   "execution_count": 5,
   "metadata": {},
   "outputs": [],
   "source": [
    "def weighted_search_information(G, paths):\n",
    "    path_len = len(paths[0])-1\n",
    "\n",
    "    ICs = []\n",
    "    for path in paths:\n",
    "        temp = 0.0\n",
    "        for i in range(len(path)-1):\n",
    "            if i == 0:\n",
    "                successor_weights = dict([(successor, G.nodes[successor]['pagerank_score']) for successor in G.neighbors(path[i])])\n",
    "                total_weight = sum([v for k, v in successor_weights.items()])\n",
    "                temp = successor_weights[path[i+1]]/total_weight\n",
    "            else:\n",
    "                successor_weights = {}\n",
    "                for successor in G.neighbors(path[i]):\n",
    "                    if successor == path[i-1]: # ignore in node\n",
    "                        continue\n",
    "                    else:\n",
    "                        successor_weights[successor] = G.nodes[successor]['pagerank_score']\n",
    "                \n",
    "                total_weight = sum([v for k, v in successor_weights.items()])\n",
    "                temp = temp*(successor_weights[path[i+1]]/total_weight)\n",
    "\n",
    "        ICs.append(temp)\n",
    "\n",
    "    S = -1*math.log2(sum(ICs))\n",
    "\n",
    "    return (path_len, S)"
   ]
  },
  {
   "cell_type": "code",
   "execution_count": 6,
   "metadata": {},
   "outputs": [],
   "source": [
    "def seach_information(G, source, target, weighted=False):\n",
    "    try:\n",
    "        paths = [p for p in nx.all_shortest_paths(G, source, target)]\n",
    "    except nx.NetworkXNoPath:\n",
    "        return (float('inf'), '.')\n",
    "    \n",
    "    \n",
    "    if weighted:\n",
    "        path_len, S = weighted_search_information(G, paths)\n",
    "    else:\n",
    "        path_len, S = unweighted_search_information(G, paths)\n",
    "    return (path_len, S)"
   ]
  },
  {
   "cell_type": "code",
   "execution_count": 7,
   "metadata": {},
   "outputs": [],
   "source": [
    "def check_each_path(G, source, target, weighted=False):\n",
    "    paths = [p for p in nx.all_shortest_paths(G, source, target)]\n",
    "\n",
    "    if weighted:\n",
    "        path_info = []\n",
    "        for p in paths:\n",
    "            path_len, S = weighted_search_information(G, [p])\n",
    "            path_info.append((S, p))\n",
    "\n",
    "        path_len, S = weighted_search_information(G, paths)\n",
    "        print('{}--->{}, Search information:{} bits'.format(source, target, S))\n",
    "\n",
    "        path_info.sort()\n",
    "        print('\\nPath list:')\n",
    "        for p in path_info:\n",
    "            print()\n",
    "            print('Search information:{0}'.format(p[0]))\n",
    "            print('-->'.join(p[1]))\n",
    "\n",
    "    else:\n",
    "        path_info = []\n",
    "        for p in paths:\n",
    "            path_len, S = unweighted_search_information(G, [p])\n",
    "            path_info.append((S, p))\n",
    "\n",
    "        path_len, S = unweighted_search_information(G, paths)\n",
    "        print('{}--->{}, Search information:{} bits (unweighted)'.format(source, target, S))\n",
    "\n",
    "        path_info.sort()\n",
    "        print('\\nPath list:')\n",
    "        for p in path_info:\n",
    "            print()\n",
    "            print('Search information:{0}'.format(p[0]))\n",
    "            print('-->'.join(p[1]))\n",
    "    "
   ]
  },
  {
   "cell_type": "code",
   "execution_count": 8,
   "metadata": {},
   "outputs": [],
   "source": [
    "def network_with_randomized_signature(G, original_signature):\n",
    "    g = copy.deepcopy(G)\n",
    "    \n",
    "    nodes = list(g.nodes())\n",
    "    \n",
    "    used_nodes = set(original_signature.keys()) & set(nodes)\n",
    "    \n",
    "    random_genes = random.sample(nodes, len(used_nodes))\n",
    "    map_table = dict(zip(used_nodes, random_genes))\n",
    "    \n",
    "    pseudo_signature = {}\n",
    "    for k,v in original_signature.items():\n",
    "        if k in used_nodes:\n",
    "            pseudo_signature[map_table[k]] = v\n",
    "        else:\n",
    "            pseudo_signature[k] = v\n",
    "    \n",
    "    random_pagerank_scores = nx.pagerank(g, personalization=pseudo_signature)\n",
    "    \n",
    "    for n in g.nodes():\n",
    "        g.nodes[n]['pagerank_score'] = random_pagerank_scores[n]\n",
    "        \n",
    "    return g\n",
    "    "
   ]
  },
  {
   "cell_type": "markdown",
   "metadata": {},
   "source": [
    "1. Loading protein-protein interaction network (STRING)"
   ]
  },
  {
   "cell_type": "code",
   "execution_count": 9,
   "metadata": {},
   "outputs": [],
   "source": [
    "PPI = nx.read_gml('STRING750.gml')"
   ]
  },
  {
   "cell_type": "markdown",
   "metadata": {},
   "source": [
    "2. Loading gene expression programs extracted from fetal organ development scRNA-seq data"
   ]
  },
  {
   "cell_type": "code",
   "execution_count": 10,
   "metadata": {},
   "outputs": [],
   "source": [
    "programs = pd.read_csv('VHL_kidney_GEPs_T.csv', index_col=0)"
   ]
  },
  {
   "cell_type": "markdown",
   "metadata": {},
   "source": [
    "3. Selecting signature of tissue-specific program"
   ]
  },
  {
   "cell_type": "code",
   "execution_count": 11,
   "metadata": {},
   "outputs": [],
   "source": [
    "name_of_interested_program = 'P9'\n",
    "topN = 100"
   ]
  },
  {
   "cell_type": "code",
   "execution_count": 12,
   "metadata": {},
   "outputs": [],
   "source": [
    "NMF_weights = programs.loc[:, name_of_interested_program]\n",
    "signature = NMF_weights.sort_values(ascending=False)[:topN]\n",
    "signature = dict(signature)"
   ]
  },
  {
   "cell_type": "code",
   "execution_count": 13,
   "metadata": {},
   "outputs": [
    {
     "name": "stdout",
     "output_type": "stream",
     "text": [
      "There are 15193 proteins in PPI\n",
      "There are 100 signature proteins\n",
      "100 signature proteins are included in PPI network\n"
     ]
    }
   ],
   "source": [
    "shared = set(signature.keys()) & set(PPI.nodes())\n",
    "print('There are {} proteins in PPI'.format(PPI.number_of_nodes()))\n",
    "print('There are {} signature proteins'.format(len(signature)))\n",
    "print('{} signature proteins are included in PPI network'.format(len(shared)))"
   ]
  },
  {
   "cell_type": "markdown",
   "metadata": {},
   "source": [
    "4. Conducting personalized PageRank algorithm to assign preferential scores for each node in pathways, \n",
    "which representing the influence of tissue-specific GEP on whole cell signaling"
   ]
  },
  {
   "cell_type": "code",
   "execution_count": 14,
   "metadata": {},
   "outputs": [],
   "source": [
    "pagerank_scores = nx.pagerank(PPI, personalization=signature)"
   ]
  },
  {
   "cell_type": "code",
   "execution_count": 15,
   "metadata": {},
   "outputs": [],
   "source": [
    "for n in PPI.nodes():\n",
    "    PPI.nodes[n]['pagerank_score'] = pagerank_scores[n]"
   ]
  },
  {
   "cell_type": "code",
   "execution_count": 16,
   "metadata": {},
   "outputs": [
    {
     "data": {
      "text/html": [
       "<div>\n",
       "<style scoped>\n",
       "    .dataframe tbody tr th:only-of-type {\n",
       "        vertical-align: middle;\n",
       "    }\n",
       "\n",
       "    .dataframe tbody tr th {\n",
       "        vertical-align: top;\n",
       "    }\n",
       "\n",
       "    .dataframe thead th {\n",
       "        text-align: right;\n",
       "    }\n",
       "</style>\n",
       "<table border=\"1\" class=\"dataframe\">\n",
       "  <thead>\n",
       "    <tr style=\"text-align: right;\">\n",
       "      <th></th>\n",
       "      <th>Protein</th>\n",
       "      <th>PageRank_Score</th>\n",
       "    </tr>\n",
       "  </thead>\n",
       "  <tbody>\n",
       "    <tr>\n",
       "      <th>2071</th>\n",
       "      <td>PLCB1</td>\n",
       "      <td>0.049114</td>\n",
       "    </tr>\n",
       "    <tr>\n",
       "      <th>5585</th>\n",
       "      <td>MAML2</td>\n",
       "      <td>0.017223</td>\n",
       "    </tr>\n",
       "    <tr>\n",
       "      <th>3803</th>\n",
       "      <td>HDAC9</td>\n",
       "      <td>0.010683</td>\n",
       "    </tr>\n",
       "    <tr>\n",
       "      <th>12565</th>\n",
       "      <td>LPHN3</td>\n",
       "      <td>0.010060</td>\n",
       "    </tr>\n",
       "    <tr>\n",
       "      <th>398</th>\n",
       "      <td>DOCK4</td>\n",
       "      <td>0.005710</td>\n",
       "    </tr>\n",
       "  </tbody>\n",
       "</table>\n",
       "</div>"
      ],
      "text/plain": [
       "      Protein  PageRank_Score\n",
       "2071    PLCB1        0.049114\n",
       "5585    MAML2        0.017223\n",
       "3803    HDAC9        0.010683\n",
       "12565   LPHN3        0.010060\n",
       "398     DOCK4        0.005710"
      ]
     },
     "execution_count": 16,
     "metadata": {},
     "output_type": "execute_result"
    }
   ],
   "source": [
    "pagerank_scores_df = pd.DataFrame([(k,v) for k,v in pagerank_scores.items()], columns=['Protein', 'PageRank_Score'])\n",
    "pagerank_scores_df = pagerank_scores_df.sort_values(by='PageRank_Score', ascending=False)\n",
    "pagerank_scores_df.head()\n",
    "# pagerank_scores_df.to_csv('pagerank_scores.csv', index=False) # alternative"
   ]
  },
  {
   "cell_type": "markdown",
   "metadata": {},
   "source": [
    "5. Search information analysis"
   ]
  },
  {
   "cell_type": "code",
   "execution_count": 17,
   "metadata": {},
   "outputs": [
    {
     "name": "stdout",
     "output_type": "stream",
     "text": [
      "There are 1639 targets in input file, and 1040 of them can be found in PPI\n"
     ]
    }
   ],
   "source": [
    "source = 'VHL'\n",
    "target_proteins = [line.rstrip() for line in open('TF_names_v_1.01.txt') ] # downloaded from http://humantfs.ccbr.utoronto.ca/download.php\n",
    "\n",
    "number_of_target_proteins = len(target_proteins)\n",
    "\n",
    "validated_targets = set(PPI.nodes()) & set(target_proteins)\n",
    "validated_targets = validated_targets - set(source)\n",
    "\n",
    "validated_targets  = list(validated_targets)\n",
    "\n",
    "number_of_target_protein_in_PPI = len(validated_targets)\n",
    "\n",
    "print('There are {0} targets in input file, and {1} of them can be found in PPI'.format(number_of_target_proteins, number_of_target_protein_in_PPI))"
   ]
  },
  {
   "cell_type": "code",
   "execution_count": 18,
   "metadata": {},
   "outputs": [],
   "source": [
    "def random_generator(i, PPI, signature, validated_targets):\n",
    "    randomized_pathways = network_with_randomized_signature(PPI, signature)\n",
    "\n",
    "    random_delta_S = []\n",
    "    for t in validated_targets:\n",
    "        _, randomized_unweighted_info = seach_information(randomized_pathways, source, t, weighted=False)\n",
    "        _, randomized_weighted_info = seach_information(randomized_pathways, source, t, weighted=True)\n",
    "    \n",
    "        r_delta_S = randomized_weighted_info - randomized_unweighted_info   \n",
    "        \n",
    "        random_delta_S.append(r_delta_S)\n",
    "    \n",
    "    return(random_delta_S)"
   ]
  },
  {
   "cell_type": "code",
   "execution_count": null,
   "metadata": {},
   "outputs": [],
   "source": [
    "#------randomization-----\n",
    "#------random seeds-------\n",
    "N = 1000\n",
    "start_time = time.time()\n",
    "all_random_delta_S = Parallel(n_jobs=10)(delayed(random_generator)(i, PPI, signature, validated_targets) for i in range(N))\n",
    "end_time = time.time()"
   ]
  },
  {
   "cell_type": "code",
   "execution_count": null,
   "metadata": {},
   "outputs": [],
   "source": [
    "print('Running time on randomization: {} h, N={}'.format((end_time-start_time)/3600, N))"
   ]
  },
  {
   "cell_type": "code",
   "execution_count": null,
   "metadata": {},
   "outputs": [],
   "source": [
    "random_info_change_matrix = pd.DataFrame(all_random_delta_S, columns=validated_targets)\n",
    "random_info_change_matrix.head()"
   ]
  },
  {
   "cell_type": "code",
   "execution_count": null,
   "metadata": {},
   "outputs": [],
   "source": [
    "obs_result = [] # observed results\n",
    "\n",
    "for t in validated_targets:\n",
    "    path_len, unweighted_info = seach_information(PPI, source, t, weighted=False)\n",
    "    _, weighted_info = seach_information(PPI, source, t, weighted=True)\n",
    "        \n",
    "    delta_S = weighted_info-unweighted_info\n",
    "                 \n",
    "    if delta_S >= 0:\n",
    "        empirical_p_value = sum(random_info_change_matrix[t] >= delta_S)/float(N)\n",
    "    else:\n",
    "        empirical_p_value = sum(random_info_change_matrix[t] <= delta_S)/float(N)\n",
    "              \n",
    "    obs_result.append([source, t, path_len, weighted_info, unweighted_info, delta_S, empirical_p_value])\n",
    "        \n",
    "obs_info_change_df = pd.DataFrame(obs_result, columns=['Source', 'Target', 'Path_Length', 'w_S', 'unw_S', 'Delta_S', 'Empirical_P_Value'])"
   ]
  },
  {
   "cell_type": "code",
   "execution_count": null,
   "metadata": {},
   "outputs": [],
   "source": [
    "obs_info_change_df = obs_info_change_df.sort_values(by='Empirical_P_Value', ascending=True)\n",
    "obs_info_change_df.to_csv('observed_info_change.csv', index=False) # alternative\n",
    "random_info_change_matrix.to_csv('random_info_change.csv', index=False) # alternative"
   ]
  },
  {
   "cell_type": "markdown",
   "metadata": {},
   "source": [
    "6. Annotating genes with their role in cancer"
   ]
  },
  {
   "cell_type": "code",
   "execution_count": 29,
   "metadata": {},
   "outputs": [],
   "source": [
    "info_change_df = pd.read_csv('observed_info_change.csv')"
   ]
  },
  {
   "cell_type": "code",
   "execution_count": null,
   "metadata": {},
   "outputs": [],
   "source": [
    "','.join(info_change_df[info_change_df['Empirical_P_Value'] < 0.05]['Target']) # them upload genes to NCG website: http://www.network-cancer-genes.org/index.php"
   ]
  },
  {
   "cell_type": "markdown",
   "metadata": {},
   "source": [
    "7. Investigating paths"
   ]
  },
  {
   "cell_type": "code",
   "execution_count": 18,
   "metadata": {},
   "outputs": [],
   "source": [
    "source = 'VHL'\n",
    "target = 'PAX8'"
   ]
  },
  {
   "cell_type": "code",
   "execution_count": 19,
   "metadata": {},
   "outputs": [
    {
     "name": "stdout",
     "output_type": "stream",
     "text": [
      "VHL--->PAX8, Search information:13.324650016220602 bits (unweighted)\n",
      "\n",
      "Path list:\n",
      "\n",
      "Search information:15.852090548114512\n",
      "VHL-->EGLN2-->PRKCG-->PAX8\n",
      "\n",
      "Search information:16.452820364693984\n",
      "VHL-->EGLN2-->PRKCB-->PAX8\n",
      "\n",
      "Search information:16.61108244861072\n",
      "VHL-->EGLN3-->PRKCG-->PAX8\n",
      "\n",
      "Search information:16.795507019748147\n",
      "VHL-->EGLN1-->PRKCG-->PAX8\n",
      "\n",
      "Search information:16.944208750102945\n",
      "VHL-->EGLN2-->PRKCA-->PAX8\n",
      "\n",
      "Search information:17.21181226519019\n",
      "VHL-->EGLN3-->PRKCB-->PAX8\n",
      "\n",
      "Search information:17.396236836327617\n",
      "VHL-->EGLN1-->PRKCB-->PAX8\n",
      "\n",
      "Search information:17.70320065059915\n",
      "VHL-->EGLN3-->PRKCA-->PAX8\n",
      "\n",
      "Search information:17.887625221736577\n",
      "VHL-->EGLN1-->PRKCA-->PAX8\n",
      "\n",
      "Search information:18.981199337048775\n",
      "VHL-->ARNT-->SMAD3-->PAX8\n",
      "\n",
      "Search information:19.133202430493824\n",
      "VHL-->PIAS4-->SMAD3-->PAX8\n",
      "\n",
      "Search information:19.546796512903\n",
      "VHL-->PRKCD-->PRKCB-->PAX8\n",
      "\n",
      "Search information:19.704805381366533\n",
      "VHL-->TP53-->WT1-->PAX8\n",
      "\n",
      "Search information:19.840304633736803\n",
      "VHL-->HIF1A-->PPARG-->PAX8\n",
      "\n",
      "Search information:20.038184898311957\n",
      "VHL-->PRKCD-->PRKCA-->PAX8\n",
      "\n",
      "Search information:20.05827717152114\n",
      "VHL-->BCL2L1-->PRKACG-->PAX8\n",
      "\n",
      "Search information:20.118259276349374\n",
      "VHL-->BCL2L1-->PRKACB-->PAX8\n",
      "\n",
      "Search information:20.120982000357845\n",
      "VHL-->SUMO1-->PPARG-->PAX8\n",
      "\n",
      "Search information:20.15053567937313\n",
      "VHL-->BCL2L1-->PRKACA-->PAX8\n",
      "\n",
      "Search information:20.22846642702425\n",
      "VHL-->SMARCA4-->PPARG-->PAX8\n",
      "\n",
      "Search information:20.56365061861388\n",
      "VHL-->UBE2I-->PPARG-->PAX8\n",
      "\n",
      "Search information:20.59491318869026\n",
      "VHL-->SUMO1-->RXRA-->PAX8\n",
      "\n",
      "Search information:20.702397615356663\n",
      "VHL-->SMARCA4-->RXRA-->PAX8\n",
      "\n",
      "Search information:20.708514761181263\n",
      "VHL-->HIF1A-->SMAD3-->PAX8\n",
      "\n",
      "Search information:20.85635257496867\n",
      "VHL-->AURKA-->PRKACA-->PAX8\n",
      "\n",
      "Search information:20.87957128453662\n",
      "VHL-->VEGFA-->PRKACG-->PAX8\n",
      "\n",
      "Search information:20.939553389364853\n",
      "VHL-->VEGFA-->PRKACB-->PAX8\n",
      "\n",
      "Search information:20.94055735255143\n",
      "VHL-->POLR2A-->RXRA-->PAX8\n",
      "\n",
      "Search information:20.971829792388608\n",
      "VHL-->VEGFA-->PRKACA-->PAX8\n",
      "\n",
      "Search information:21.037581806946292\n",
      "VHL-->UBE2I-->RXRA-->PAX8\n",
      "\n",
      "Search information:21.08180327798718\n",
      "VHL-->RBX1-->SMAD3-->PAX8\n",
      "\n",
      "Search information:21.09667655446871\n",
      "VHL-->SMARCA4-->SMAD3-->PAX8\n",
      "\n",
      "Search information:21.10418409113765\n",
      "VHL-->FN1-->PRKACB-->PAX8\n",
      "\n",
      "Search information:21.13646049416141\n",
      "VHL-->FN1-->PRKACA-->PAX8\n",
      "\n",
      "Search information:21.161771582690594\n",
      "VHL-->FN1-->SMAD3-->PAX8\n",
      "\n",
      "Search information:21.434917304491677\n",
      "VHL-->EP300-->PPARG-->PAX8\n",
      "\n",
      "Search information:21.90884849282409\n",
      "VHL-->EP300-->RXRA-->PAX8\n",
      "\n",
      "Search information:21.92719780270298\n",
      "VHL-->TP53-->PPARG-->PAX8\n",
      "\n",
      "Search information:22.245539940383193\n",
      "VHL-->EP300-->PRKACB-->PAX8\n",
      "\n",
      "Search information:22.303127431936137\n",
      "VHL-->EP300-->SMAD3-->PAX8\n",
      "\n",
      "Search information:22.79540793014744\n",
      "VHL-->TP53-->SMAD3-->PAX8\n"
     ]
    }
   ],
   "source": [
    "check_each_path(PPI, source, target, weighted=False)"
   ]
  },
  {
   "cell_type": "code",
   "execution_count": 20,
   "metadata": {},
   "outputs": [
    {
     "name": "stdout",
     "output_type": "stream",
     "text": [
      "VHL--->PAX8, Search information:13.472396218266157 bits\n",
      "\n",
      "Path list:\n",
      "\n",
      "Search information:14.337083613357605\n",
      "VHL-->TP53-->WT1-->PAX8\n",
      "\n",
      "Search information:18.298035809667873\n",
      "VHL-->ARNT-->SMAD3-->PAX8\n",
      "\n",
      "Search information:18.426058015846312\n",
      "VHL-->FN1-->PRKACA-->PAX8\n",
      "\n",
      "Search information:18.749829497664816\n",
      "VHL-->FN1-->PRKACB-->PAX8\n",
      "\n",
      "Search information:19.003346411451396\n",
      "VHL-->FN1-->SMAD3-->PAX8\n",
      "\n",
      "Search information:19.528605392358624\n",
      "VHL-->PRKCD-->PRKCB-->PAX8\n",
      "\n",
      "Search information:19.601503585484977\n",
      "VHL-->EP300-->PRKACB-->PAX8\n",
      "\n",
      "Search information:19.625123192093568\n",
      "VHL-->PRKCD-->PRKCA-->PAX8\n",
      "\n",
      "Search information:19.854618196518757\n",
      "VHL-->EP300-->SMAD3-->PAX8\n",
      "\n",
      "Search information:19.85807669936516\n",
      "VHL-->EP300-->RXRA-->PAX8\n",
      "\n",
      "Search information:19.883865522122235\n",
      "VHL-->EGLN2-->PRKCG-->PAX8\n",
      "\n",
      "Search information:19.891621096579616\n",
      "VHL-->EGLN2-->PRKCB-->PAX8\n",
      "\n",
      "Search information:19.98477412907061\n",
      "VHL-->EGLN2-->PRKCA-->PAX8\n",
      "\n",
      "Search information:20.027864136190892\n",
      "VHL-->TP53-->SMAD3-->PAX8\n",
      "\n",
      "Search information:20.036824505018924\n",
      "VHL-->EGLN1-->PRKCG-->PAX8\n",
      "\n",
      "Search information:20.04513089622657\n",
      "VHL-->EGLN1-->PRKCB-->PAX8\n",
      "\n",
      "Search information:20.059079411786307\n",
      "VHL-->VEGFA-->PRKACA-->PAX8\n",
      "\n",
      "Search information:20.061821995159935\n",
      "VHL-->EGLN3-->PRKCG-->PAX8\n",
      "\n",
      "Search information:20.069543382274333\n",
      "VHL-->EGLN3-->PRKCB-->PAX8\n",
      "\n",
      "Search information:20.114090747228154\n",
      "VHL-->BCL2L1-->PRKACA-->PAX8\n",
      "\n",
      "Search information:20.138330379195704\n",
      "VHL-->EGLN1-->PRKCA-->PAX8\n",
      "\n",
      "Search information:20.162693531106516\n",
      "VHL-->EGLN3-->PRKCA-->PAX8\n",
      "\n",
      "Search information:20.18286872390763\n",
      "VHL-->EP300-->PPARG-->PAX8\n",
      "\n",
      "Search information:20.213497854390976\n",
      "VHL-->AURKA-->PRKACA-->PAX8\n",
      "\n",
      "Search information:20.235871728958656\n",
      "VHL-->RBX1-->SMAD3-->PAX8\n",
      "\n",
      "Search information:20.304652584687926\n",
      "VHL-->VEGFA-->PRKACG-->PAX8\n",
      "\n",
      "Search information:20.360071931110596\n",
      "VHL-->BCL2L1-->PRKACG-->PAX8\n",
      "\n",
      "Search information:20.36203693347651\n",
      "VHL-->TP53-->PPARG-->PAX8\n",
      "\n",
      "Search information:20.382036482595026\n",
      "VHL-->VEGFA-->PRKACB-->PAX8\n",
      "\n",
      "Search information:20.42227838746981\n",
      "VHL-->SMARCA4-->SMAD3-->PAX8\n",
      "\n",
      "Search information:20.435581495448776\n",
      "VHL-->SUMO1-->RXRA-->PAX8\n",
      "\n",
      "Search information:20.43673024816486\n",
      "VHL-->BCL2L1-->PRKACB-->PAX8\n",
      "\n",
      "Search information:20.450075768285764\n",
      "VHL-->SMARCA4-->RXRA-->PAX8\n",
      "\n",
      "Search information:20.45826249538796\n",
      "VHL-->HIF1A-->SMAD3-->PAX8\n",
      "\n",
      "Search information:20.76049705264795\n",
      "VHL-->SUMO1-->PPARG-->PAX8\n",
      "\n",
      "Search information:20.774988706693115\n",
      "VHL-->SMARCA4-->PPARG-->PAX8\n",
      "\n",
      "Search information:20.809548282632782\n",
      "VHL-->HIF1A-->PPARG-->PAX8\n",
      "\n",
      "Search information:20.848654886343134\n",
      "VHL-->UBE2I-->RXRA-->PAX8\n",
      "\n",
      "Search information:20.927000523150085\n",
      "VHL-->POLR2A-->RXRA-->PAX8\n",
      "\n",
      "Search information:21.1735802467587\n",
      "VHL-->UBE2I-->PPARG-->PAX8\n",
      "\n",
      "Search information:21.31184652456038\n",
      "VHL-->PIAS4-->SMAD3-->PAX8\n"
     ]
    }
   ],
   "source": [
    "check_each_path(PPI, source, target, weighted=True)"
   ]
  }
 ],
 "metadata": {
  "kernelspec": {
   "display_name": "Python 3 (ipykernel)",
   "language": "python",
   "name": "python3"
  },
  "language_info": {
   "codemirror_mode": {
    "name": "ipython",
    "version": 3
   },
   "file_extension": ".py",
   "mimetype": "text/x-python",
   "name": "python",
   "nbconvert_exporter": "python",
   "pygments_lexer": "ipython3",
   "version": "3.10.9"
  }
 },
 "nbformat": 4,
 "nbformat_minor": 2
}
